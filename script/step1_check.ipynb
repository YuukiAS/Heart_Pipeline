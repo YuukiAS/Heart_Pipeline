{
 "cells": [
  {
   "cell_type": "markdown",
   "metadata": {},
   "source": [
    "This file check whether Slurm jobs are properly executed and files are generated. If any file is missing, then they will be put in the `data_failed` folder."
   ]
  },
  {
   "cell_type": "code",
   "execution_count": 2,
   "metadata": {},
   "outputs": [],
   "source": [
    "import os\n",
    "import sys\n",
    "from tqdm import tqdm\n",
    "import shutil\n",
    "sys.path.append('../')\n",
    "import config"
   ]
  },
  {
   "cell_type": "code",
   "execution_count": 3,
   "metadata": {},
   "outputs": [],
   "source": [
    "# no segmentation on sa.nii.gz so far\n",
    "files_to_check = [\n",
    "    \"la_2ch_ED.nii.gz\",\n",
    "    \"la_2ch.nii.gz\",\n",
    "    \"la_4ch_ED.nii.gz\",\n",
    "    \"la_4ch.nii.gz\",\n",
    "    \"seg4_la_4ch_ED.nii.gz\",\n",
    "    \"seg4_la_4ch.nii.gz\",\n",
    "    \"seg_la_2ch_ES.nii.gz\",\n",
    "    \"seg_la_4ch_ED.nii.gz\",\n",
    "    \"seg_la_4ch.nii.gz\",\n",
    "    \"la_2ch_ES.nii.gz\",\n",
    "    \"la_3ch.nii.gz\",\n",
    "    \"la_4ch_ES.nii.gz\",\n",
    "    \"sa.nii.gz\",\n",
    "    \"seg4_la_4ch_ES.nii.gz\",\n",
    "    \"seg_la_2ch_ED.nii.gz\",\n",
    "    \"seg_la_2ch.nii.gz\",\n",
    "    \"seg_la_4ch_ES.nii.gz\"\n",
    "]"
   ]
  },
  {
   "cell_type": "markdown",
   "metadata": {},
   "source": [
    "## Put Failed Subject to `config.data_failed_dir`"
   ]
  },
  {
   "cell_type": "code",
   "execution_count": 23,
   "metadata": {},
   "outputs": [
    {
     "name": "stderr",
     "output_type": "stream",
     "text": [
      "  0%|          | 95/59975 [00:00<04:26, 224.67it/s]"
     ]
    },
    {
     "name": "stdout",
     "output_type": "stream",
     "text": [
      "1080362: Missing sa.nii.gz file\n"
     ]
    },
    {
     "name": "stderr",
     "output_type": "stream",
     "text": [
      "  1%|          | 385/59975 [00:01<04:51, 204.58it/s]"
     ]
    },
    {
     "name": "stdout",
     "output_type": "stream",
     "text": [
      "1104792: Missing sa.nii.gz file\n"
     ]
    },
    {
     "name": "stderr",
     "output_type": "stream",
     "text": [
      "  1%|          | 430/59975 [00:02<04:41, 211.79it/s]"
     ]
    },
    {
     "name": "stdout",
     "output_type": "stream",
     "text": [
      "1108877: Missing sa.nii.gz file\n"
     ]
    },
    {
     "name": "stderr",
     "output_type": "stream",
     "text": [
      "  1%|          | 657/59975 [00:03<04:32, 217.82it/s]"
     ]
    },
    {
     "name": "stdout",
     "output_type": "stream",
     "text": [
      "1125392: Missing sa.nii.gz file\n",
      "1126949: Missing sa.nii.gz file\n"
     ]
    },
    {
     "name": "stderr",
     "output_type": "stream",
     "text": [
      "  2%|▏         | 996/59975 [00:04<04:32, 216.45it/s]"
     ]
    },
    {
     "name": "stdout",
     "output_type": "stream",
     "text": [
      "1150046: Missing sa.nii.gz file\n"
     ]
    },
    {
     "name": "stderr",
     "output_type": "stream",
     "text": [
      "  2%|▏         | 1108/59975 [00:05<04:31, 217.13it/s]"
     ]
    },
    {
     "name": "stdout",
     "output_type": "stream",
     "text": [
      "1161130: Missing la_2ch_ED.nii.gz file\n",
      "1161130: Missing la_2ch.nii.gz file\n",
      "1161130: Missing seg_la_2ch_ES.nii.gz file\n",
      "1161130: Missing la_2ch_ES.nii.gz file\n",
      "1161130: Missing sa.nii.gz file\n",
      "1161130: Missing seg_la_2ch_ED.nii.gz file\n",
      "1161130: Missing seg_la_2ch.nii.gz file\n"
     ]
    },
    {
     "name": "stderr",
     "output_type": "stream",
     "text": [
      "  3%|▎         | 1605/59975 [00:08<04:48, 202.40it/s]"
     ]
    },
    {
     "name": "stdout",
     "output_type": "stream",
     "text": [
      "1204841: Missing sa.nii.gz file\n"
     ]
    },
    {
     "name": "stderr",
     "output_type": "stream",
     "text": [
      "  3%|▎         | 1730/59975 [00:08<05:10, 187.33it/s]"
     ]
    },
    {
     "name": "stdout",
     "output_type": "stream",
     "text": [
      "1214334: Missing sa.nii.gz file\n"
     ]
    },
    {
     "name": "stderr",
     "output_type": "stream",
     "text": [
      "  3%|▎         | 2014/59975 [00:10<04:47, 201.37it/s]"
     ]
    },
    {
     "name": "stdout",
     "output_type": "stream",
     "text": [
      "1237896: Missing sa.nii.gz file\n"
     ]
    },
    {
     "name": "stderr",
     "output_type": "stream",
     "text": [
      "  4%|▎         | 2224/59975 [00:11<05:00, 192.48it/s]"
     ]
    },
    {
     "name": "stdout",
     "output_type": "stream",
     "text": [
      "1255037: Missing sa.nii.gz file\n",
      "1255301: Missing la_2ch_ED.nii.gz file\n",
      "1255301: Missing la_2ch.nii.gz file\n",
      "1255301: Missing seg_la_2ch_ES.nii.gz file\n",
      "1255301: Missing la_2ch_ES.nii.gz file\n",
      "1255301: Missing sa.nii.gz file\n",
      "1255301: Missing seg_la_2ch_ED.nii.gz file\n",
      "1255301: Missing seg_la_2ch.nii.gz file\n"
     ]
    },
    {
     "name": "stderr",
     "output_type": "stream",
     "text": [
      "  4%|▍         | 2535/59975 [00:13<04:39, 205.68it/s]"
     ]
    },
    {
     "name": "stdout",
     "output_type": "stream",
     "text": [
      "1279401: Missing sa.nii.gz file\n"
     ]
    },
    {
     "name": "stderr",
     "output_type": "stream",
     "text": [
      "  4%|▍         | 2674/59975 [00:13<04:23, 217.60it/s]"
     ]
    },
    {
     "name": "stdout",
     "output_type": "stream",
     "text": [
      "1290257: Missing sa.nii.gz file\n"
     ]
    },
    {
     "name": "stderr",
     "output_type": "stream",
     "text": [
      "  5%|▍         | 2767/59975 [00:14<04:19, 220.81it/s]"
     ]
    },
    {
     "name": "stdout",
     "output_type": "stream",
     "text": [
      "1297718: Missing sa.nii.gz file\n",
      "1300521: Missing sa.nii.gz file\n"
     ]
    },
    {
     "name": "stderr",
     "output_type": "stream",
     "text": [
      "  5%|▍         | 2855/59975 [00:14<04:36, 206.46it/s]"
     ]
    },
    {
     "name": "stdout",
     "output_type": "stream",
     "text": [
      "1305250: Missing la_2ch_ED.nii.gz file\n",
      "1305250: Missing la_2ch.nii.gz file\n",
      "1305250: Missing seg_la_2ch_ES.nii.gz file\n",
      "1305250: Missing la_2ch_ES.nii.gz file\n",
      "1305250: Missing sa.nii.gz file\n",
      "1305250: Missing seg_la_2ch_ED.nii.gz file\n",
      "1305250: Missing seg_la_2ch.nii.gz file\n"
     ]
    },
    {
     "name": "stderr",
     "output_type": "stream",
     "text": [
      "  5%|▌         | 3225/59975 [00:16<04:44, 199.59it/s]"
     ]
    },
    {
     "name": "stdout",
     "output_type": "stream",
     "text": [
      "1335274: Missing sa.nii.gz file\n"
     ]
    },
    {
     "name": "stderr",
     "output_type": "stream",
     "text": [
      "  6%|▌         | 3309/59975 [00:16<04:47, 196.97it/s]"
     ]
    },
    {
     "name": "stdout",
     "output_type": "stream",
     "text": [
      "1341013: Missing sa.nii.gz file\n"
     ]
    },
    {
     "name": "stderr",
     "output_type": "stream",
     "text": [
      "  6%|▌         | 3351/59975 [00:17<04:45, 197.99it/s]"
     ]
    },
    {
     "name": "stdout",
     "output_type": "stream",
     "text": [
      "1346221: Missing sa.nii.gz file\n"
     ]
    },
    {
     "name": "stderr",
     "output_type": "stream",
     "text": [
      "  6%|▌         | 3673/59975 [00:18<04:31, 207.59it/s]"
     ]
    },
    {
     "name": "stdout",
     "output_type": "stream",
     "text": [
      "1369464: Missing sa.nii.gz file\n",
      "1369562: Missing sa.nii.gz file\n"
     ]
    },
    {
     "name": "stderr",
     "output_type": "stream",
     "text": [
      "  6%|▌         | 3740/59975 [00:19<04:26, 210.71it/s]"
     ]
    },
    {
     "name": "stdout",
     "output_type": "stream",
     "text": [
      "1376211: Missing sa.nii.gz file\n"
     ]
    },
    {
     "name": "stderr",
     "output_type": "stream",
     "text": [
      "  6%|▋         | 3805/59975 [00:19<04:29, 208.75it/s]"
     ]
    },
    {
     "name": "stdout",
     "output_type": "stream",
     "text": [
      "1383050: Missing sa.nii.gz file\n"
     ]
    },
    {
     "name": "stderr",
     "output_type": "stream",
     "text": [
      "  6%|▋         | 3873/59975 [00:19<04:22, 213.90it/s]"
     ]
    },
    {
     "name": "stdout",
     "output_type": "stream",
     "text": [
      "1386959: Missing sa.nii.gz file\n"
     ]
    },
    {
     "name": "stderr",
     "output_type": "stream",
     "text": [
      "  7%|▋         | 4249/59975 [00:21<04:23, 211.80it/s]"
     ]
    },
    {
     "name": "stdout",
     "output_type": "stream",
     "text": [
      "1417461: Missing sa.nii.gz file\n"
     ]
    },
    {
     "name": "stderr",
     "output_type": "stream",
     "text": [
      "  8%|▊         | 4629/59975 [00:23<04:22, 210.99it/s]"
     ]
    },
    {
     "name": "stdout",
     "output_type": "stream",
     "text": [
      "1449148: Missing sa.nii.gz file\n"
     ]
    },
    {
     "name": "stderr",
     "output_type": "stream",
     "text": [
      "  9%|▉         | 5325/59975 [00:27<05:06, 178.30it/s]"
     ]
    },
    {
     "name": "stdout",
     "output_type": "stream",
     "text": [
      "1505926: Missing la_2ch_ED.nii.gz file\n",
      "1505926: Missing la_2ch.nii.gz file\n",
      "1505926: Missing seg_la_2ch_ES.nii.gz file\n",
      "1505926: Missing la_2ch_ES.nii.gz file\n",
      "1505926: Missing sa.nii.gz file\n",
      "1505926: Missing seg_la_2ch_ED.nii.gz file\n",
      "1505926: Missing seg_la_2ch.nii.gz file\n",
      "1508229: Missing sa.nii.gz file\n"
     ]
    },
    {
     "name": "stderr",
     "output_type": "stream",
     "text": [
      "  9%|▉         | 5412/59975 [00:27<04:27, 203.73it/s]"
     ]
    },
    {
     "name": "stdout",
     "output_type": "stream",
     "text": [
      "1512152: Missing sa.nii.gz file\n"
     ]
    },
    {
     "name": "stderr",
     "output_type": "stream",
     "text": [
      " 10%|█         | 6019/59975 [00:30<04:17, 209.69it/s]"
     ]
    },
    {
     "name": "stdout",
     "output_type": "stream",
     "text": [
      "1566567: Missing la_2ch_ED.nii.gz file\n",
      "1566567: Missing la_2ch.nii.gz file\n",
      "1566567: Missing seg_la_2ch_ES.nii.gz file\n",
      "1566567: Missing la_2ch_ES.nii.gz file\n",
      "1566567: Missing sa.nii.gz file\n",
      "1566567: Missing seg_la_2ch_ED.nii.gz file\n",
      "1566567: Missing seg_la_2ch.nii.gz file\n"
     ]
    },
    {
     "name": "stderr",
     "output_type": "stream",
     "text": [
      " 10%|█         | 6174/59975 [00:31<04:06, 218.54it/s]"
     ]
    },
    {
     "name": "stdout",
     "output_type": "stream",
     "text": [
      "1579136: Missing sa.nii.gz file\n"
     ]
    },
    {
     "name": "stderr",
     "output_type": "stream",
     "text": [
      " 11%|█         | 6469/59975 [00:32<05:13, 170.63it/s]"
     ]
    },
    {
     "name": "stdout",
     "output_type": "stream",
     "text": [
      "1601629: Missing sa.nii.gz file\n"
     ]
    },
    {
     "name": "stderr",
     "output_type": "stream",
     "text": [
      " 11%|█         | 6510/59975 [00:33<04:49, 184.83it/s]"
     ]
    },
    {
     "name": "stdout",
     "output_type": "stream",
     "text": [
      "1605440: Missing sa.nii.gz file\n"
     ]
    },
    {
     "name": "stderr",
     "output_type": "stream",
     "text": [
      " 11%|█         | 6601/59975 [00:33<04:11, 211.97it/s]"
     ]
    },
    {
     "name": "stdout",
     "output_type": "stream",
     "text": [
      "1610956: Missing sa.nii.gz file\n"
     ]
    },
    {
     "name": "stderr",
     "output_type": "stream",
     "text": [
      " 11%|█▏        | 6757/59975 [00:34<04:35, 192.95it/s]"
     ]
    },
    {
     "name": "stdout",
     "output_type": "stream",
     "text": [
      "1626374: Missing la_2ch_ED.nii.gz file\n",
      "1626374: Missing la_2ch.nii.gz file\n",
      "1626374: Missing seg_la_2ch_ES.nii.gz file\n",
      "1626374: Missing la_2ch_ES.nii.gz file\n",
      "1626374: Missing seg_la_2ch_ED.nii.gz file\n",
      "1626374: Missing seg_la_2ch.nii.gz file\n"
     ]
    },
    {
     "name": "stderr",
     "output_type": "stream",
     "text": [
      " 11%|█▏        | 6862/59975 [00:34<04:22, 201.97it/s]"
     ]
    },
    {
     "name": "stdout",
     "output_type": "stream",
     "text": [
      "1635363: Missing sa.nii.gz file\n",
      "1636629: Missing sa.nii.gz file\n"
     ]
    },
    {
     "name": "stderr",
     "output_type": "stream",
     "text": [
      " 12%|█▏        | 7289/59975 [00:36<04:05, 214.44it/s]"
     ]
    },
    {
     "name": "stdout",
     "output_type": "stream",
     "text": [
      "1670625: Missing sa.nii.gz file\n"
     ]
    },
    {
     "name": "stderr",
     "output_type": "stream",
     "text": [
      " 13%|█▎        | 7538/59975 [00:38<04:27, 195.92it/s]"
     ]
    },
    {
     "name": "stdout",
     "output_type": "stream",
     "text": [
      "1693530: Missing la_2ch_ED.nii.gz file\n",
      "1693530: Missing la_2ch.nii.gz file\n",
      "1693530: Missing seg_la_2ch_ES.nii.gz file\n",
      "1693530: Missing la_2ch_ES.nii.gz file\n",
      "1693530: Missing seg_la_2ch_ED.nii.gz file\n",
      "1693530: Missing seg_la_2ch.nii.gz file\n"
     ]
    },
    {
     "name": "stderr",
     "output_type": "stream",
     "text": [
      " 14%|█▎        | 8125/59975 [00:41<04:16, 202.17it/s]"
     ]
    },
    {
     "name": "stdout",
     "output_type": "stream",
     "text": [
      "1739778: Missing sa.nii.gz file\n"
     ]
    },
    {
     "name": "stderr",
     "output_type": "stream",
     "text": [
      " 14%|█▍        | 8310/59975 [00:42<04:43, 182.53it/s]"
     ]
    },
    {
     "name": "stdout",
     "output_type": "stream",
     "text": [
      "1756067: Missing sa.nii.gz file\n"
     ]
    },
    {
     "name": "stderr",
     "output_type": "stream",
     "text": [
      " 14%|█▍        | 8458/59975 [00:42<04:13, 203.08it/s]"
     ]
    },
    {
     "name": "stdout",
     "output_type": "stream",
     "text": [
      "1767712: Missing sa.nii.gz file\n",
      "1769053: Missing sa.nii.gz file\n"
     ]
    },
    {
     "name": "stderr",
     "output_type": "stream",
     "text": [
      " 15%|█▍        | 8879/59975 [00:44<04:11, 203.23it/s]"
     ]
    },
    {
     "name": "stdout",
     "output_type": "stream",
     "text": [
      "1803584: Missing sa.nii.gz file\n",
      "1805524: Missing sa.nii.gz file\n"
     ]
    },
    {
     "name": "stderr",
     "output_type": "stream",
     "text": [
      " 15%|█▌        | 9088/59975 [00:45<03:51, 220.27it/s]"
     ]
    },
    {
     "name": "stdout",
     "output_type": "stream",
     "text": [
      "1821938: Missing sa.nii.gz file\n"
     ]
    },
    {
     "name": "stderr",
     "output_type": "stream",
     "text": [
      " 15%|█▌        | 9158/59975 [00:46<03:49, 221.86it/s]"
     ]
    },
    {
     "name": "stdout",
     "output_type": "stream",
     "text": [
      "1827109: Missing sa.nii.gz file\n"
     ]
    },
    {
     "name": "stderr",
     "output_type": "stream",
     "text": [
      " 15%|█▌        | 9204/59975 [00:46<03:52, 218.15it/s]"
     ]
    },
    {
     "name": "stdout",
     "output_type": "stream",
     "text": [
      "1830779: Missing la_2ch_ED.nii.gz file\n",
      "1830779: Missing la_2ch.nii.gz file\n",
      "1830779: Missing seg_la_2ch_ES.nii.gz file\n",
      "1830779: Missing la_2ch_ES.nii.gz file\n",
      "1830779: Missing sa.nii.gz file\n",
      "1830779: Missing seg_la_2ch_ED.nii.gz file\n",
      "1830779: Missing seg_la_2ch.nii.gz file\n"
     ]
    },
    {
     "name": "stderr",
     "output_type": "stream",
     "text": [
      " 16%|█▌        | 9514/59975 [00:47<04:00, 209.71it/s]"
     ]
    },
    {
     "name": "stdout",
     "output_type": "stream",
     "text": [
      "1857477: Missing sa.nii.gz file\n"
     ]
    },
    {
     "name": "stderr",
     "output_type": "stream",
     "text": [
      " 17%|█▋        | 10129/59975 [00:50<04:06, 202.28it/s]"
     ]
    },
    {
     "name": "stdout",
     "output_type": "stream",
     "text": [
      "1911935: Missing sa.nii.gz file\n"
     ]
    },
    {
     "name": "stderr",
     "output_type": "stream",
     "text": [
      " 17%|█▋        | 10283/59975 [00:51<03:54, 211.52it/s]"
     ]
    },
    {
     "name": "stdout",
     "output_type": "stream",
     "text": [
      "1924334: Missing sa.nii.gz file\n"
     ]
    },
    {
     "name": "stderr",
     "output_type": "stream",
     "text": [
      " 17%|█▋        | 10401/59975 [00:52<03:38, 227.39it/s]"
     ]
    },
    {
     "name": "stdout",
     "output_type": "stream",
     "text": [
      "1933603: Missing sa.nii.gz file\n"
     ]
    },
    {
     "name": "stderr",
     "output_type": "stream",
     "text": [
      " 18%|█▊        | 11065/59975 [00:55<03:51, 211.21it/s]"
     ]
    },
    {
     "name": "stdout",
     "output_type": "stream",
     "text": [
      "1990320: Missing sa.nii.gz file\n"
     ]
    },
    {
     "name": "stderr",
     "output_type": "stream",
     "text": [
      " 19%|█▉        | 11419/59975 [00:56<04:03, 199.80it/s]"
     ]
    },
    {
     "name": "stdout",
     "output_type": "stream",
     "text": [
      "2021327: Missing la_2ch_ED.nii.gz file\n",
      "2021327: Missing la_2ch.nii.gz file\n",
      "2021327: Missing seg_la_2ch_ES.nii.gz file\n",
      "2021327: Missing la_2ch_ES.nii.gz file\n",
      "2021327: Missing sa.nii.gz file\n",
      "2021327: Missing seg_la_2ch_ED.nii.gz file\n",
      "2021327: Missing seg_la_2ch.nii.gz file\n"
     ]
    },
    {
     "name": "stderr",
     "output_type": "stream",
     "text": [
      " 20%|█▉        | 11772/59975 [00:58<04:00, 200.78it/s]"
     ]
    },
    {
     "name": "stdout",
     "output_type": "stream",
     "text": [
      "2050292: Missing sa.nii.gz file\n"
     ]
    },
    {
     "name": "stderr",
     "output_type": "stream",
     "text": [
      " 20%|██        | 12148/59975 [01:00<04:18, 185.28it/s]"
     ]
    },
    {
     "name": "stdout",
     "output_type": "stream",
     "text": [
      "2081929: Missing sa.nii.gz file\n"
     ]
    },
    {
     "name": "stderr",
     "output_type": "stream",
     "text": [
      " 20%|██        | 12209/59975 [01:00<04:05, 194.24it/s]"
     ]
    },
    {
     "name": "stdout",
     "output_type": "stream",
     "text": [
      "2087652: Missing la_2ch_ED.nii.gz file\n",
      "2087652: Missing la_2ch.nii.gz file\n",
      "2087652: Missing seg_la_2ch_ES.nii.gz file\n",
      "2087652: Missing la_2ch_ES.nii.gz file\n",
      "2087652: Missing seg_la_2ch_ED.nii.gz file\n",
      "2087652: Missing seg_la_2ch.nii.gz file\n"
     ]
    },
    {
     "name": "stderr",
     "output_type": "stream",
     "text": [
      " 21%|██        | 12387/59975 [01:01<04:25, 179.31it/s]"
     ]
    },
    {
     "name": "stdout",
     "output_type": "stream",
     "text": [
      "2100186: Missing la_2ch_ED.nii.gz file\n",
      "2100186: Missing la_2ch.nii.gz file\n",
      "2100186: Missing seg_la_2ch_ES.nii.gz file\n",
      "2100186: Missing la_2ch_ES.nii.gz file\n",
      "2100186: Missing sa.nii.gz file\n",
      "2100186: Missing seg_la_2ch_ED.nii.gz file\n",
      "2100186: Missing seg_la_2ch.nii.gz file\n"
     ]
    },
    {
     "name": "stderr",
     "output_type": "stream",
     "text": [
      " 21%|██        | 12473/59975 [01:02<05:14, 151.08it/s]"
     ]
    },
    {
     "name": "stdout",
     "output_type": "stream",
     "text": [
      "2108065: Missing sa.nii.gz file\n"
     ]
    },
    {
     "name": "stderr",
     "output_type": "stream",
     "text": [
      " 21%|██        | 12555/59975 [01:02<04:13, 186.86it/s]"
     ]
    },
    {
     "name": "stdout",
     "output_type": "stream",
     "text": [
      "2114808: Missing la_2ch_ED.nii.gz file\n",
      "2114808: Missing la_2ch.nii.gz file\n",
      "2114808: Missing seg_la_2ch_ES.nii.gz file\n",
      "2114808: Missing la_2ch_ES.nii.gz file\n",
      "2114808: Missing sa.nii.gz file\n",
      "2114808: Missing seg_la_2ch_ED.nii.gz file\n",
      "2114808: Missing seg_la_2ch.nii.gz file\n"
     ]
    },
    {
     "name": "stderr",
     "output_type": "stream",
     "text": [
      " 21%|██        | 12621/59975 [01:03<03:51, 204.29it/s]"
     ]
    },
    {
     "name": "stdout",
     "output_type": "stream",
     "text": [
      "2120103: Missing sa.nii.gz file\n"
     ]
    },
    {
     "name": "stderr",
     "output_type": "stream",
     "text": [
      " 21%|██        | 12685/59975 [01:03<03:51, 204.26it/s]"
     ]
    },
    {
     "name": "stdout",
     "output_type": "stream",
     "text": [
      "2124937: Missing sa.nii.gz file\n"
     ]
    },
    {
     "name": "stderr",
     "output_type": "stream",
     "text": [
      " 22%|██▏       | 13248/59975 [01:06<03:51, 201.91it/s]"
     ]
    },
    {
     "name": "stdout",
     "output_type": "stream",
     "text": [
      "2172087: Missing sa.nii.gz file\n"
     ]
    },
    {
     "name": "stderr",
     "output_type": "stream",
     "text": [
      " 23%|██▎       | 13717/59975 [01:08<03:40, 210.18it/s]"
     ]
    },
    {
     "name": "stdout",
     "output_type": "stream",
     "text": [
      "2208901: Missing sa.nii.gz file\n"
     ]
    },
    {
     "name": "stderr",
     "output_type": "stream",
     "text": [
      " 23%|██▎       | 13824/59975 [01:09<03:51, 199.53it/s]"
     ]
    },
    {
     "name": "stdout",
     "output_type": "stream",
     "text": [
      "2215039: Missing sa.nii.gz file\n"
     ]
    },
    {
     "name": "stderr",
     "output_type": "stream",
     "text": [
      " 23%|██▎       | 13999/59975 [01:09<03:45, 204.05it/s]"
     ]
    },
    {
     "name": "stdout",
     "output_type": "stream",
     "text": [
      "2232001: Missing la_2ch_ED.nii.gz file\n",
      "2232001: Missing la_2ch.nii.gz file\n",
      "2232001: Missing seg_la_2ch_ES.nii.gz file\n",
      "2232001: Missing la_2ch_ES.nii.gz file\n",
      "2232001: Missing la_3ch.nii.gz file\n",
      "2232001: Missing seg_la_2ch_ED.nii.gz file\n",
      "2232001: Missing seg_la_2ch.nii.gz file\n"
     ]
    },
    {
     "name": "stderr",
     "output_type": "stream",
     "text": [
      " 23%|██▎       | 14040/59975 [01:10<03:57, 193.66it/s]"
     ]
    },
    {
     "name": "stdout",
     "output_type": "stream",
     "text": [
      "2236368: Missing sa.nii.gz file\n"
     ]
    },
    {
     "name": "stderr",
     "output_type": "stream",
     "text": [
      " 24%|██▍       | 14491/59975 [01:12<03:32, 213.92it/s]"
     ]
    },
    {
     "name": "stdout",
     "output_type": "stream",
     "text": [
      "2272601: Missing la_2ch_ED.nii.gz file\n",
      "2272601: Missing la_2ch.nii.gz file\n",
      "2272601: Missing seg_la_2ch_ES.nii.gz file\n",
      "2272601: Missing la_2ch_ES.nii.gz file\n",
      "2272601: Missing la_3ch.nii.gz file\n",
      "2272601: Missing seg_la_2ch_ED.nii.gz file\n",
      "2272601: Missing seg_la_2ch.nii.gz file\n"
     ]
    },
    {
     "name": "stderr",
     "output_type": "stream",
     "text": [
      " 26%|██▌       | 15686/59975 [01:18<03:52, 190.51it/s]"
     ]
    },
    {
     "name": "stdout",
     "output_type": "stream",
     "text": [
      "2371795: Missing sa.nii.gz file\n"
     ]
    },
    {
     "name": "stderr",
     "output_type": "stream",
     "text": [
      " 27%|██▋       | 15909/59975 [01:19<03:49, 191.80it/s]"
     ]
    },
    {
     "name": "stdout",
     "output_type": "stream",
     "text": [
      "2389146: Missing la_2ch_ED.nii.gz file\n",
      "2389146: Missing la_2ch.nii.gz file\n",
      "2389146: Missing seg_la_2ch_ES.nii.gz file\n",
      "2389146: Missing la_2ch_ES.nii.gz file\n",
      "2389146: Missing sa.nii.gz file\n",
      "2389146: Missing seg_la_2ch_ED.nii.gz file\n",
      "2389146: Missing seg_la_2ch.nii.gz file\n"
     ]
    },
    {
     "name": "stderr",
     "output_type": "stream",
     "text": [
      " 27%|██▋       | 16168/59975 [01:21<04:36, 158.44it/s]"
     ]
    },
    {
     "name": "stdout",
     "output_type": "stream",
     "text": [
      "2411282: Missing sa.nii.gz file\n"
     ]
    },
    {
     "name": "stderr",
     "output_type": "stream",
     "text": [
      " 27%|██▋       | 16220/59975 [01:21<04:29, 162.32it/s]"
     ]
    },
    {
     "name": "stdout",
     "output_type": "stream",
     "text": [
      "2415118: Missing sa.nii.gz file\n",
      "2416724: Missing sa.nii.gz file\n"
     ]
    },
    {
     "name": "stderr",
     "output_type": "stream",
     "text": [
      " 28%|██▊       | 16560/59975 [01:23<03:52, 186.40it/s]"
     ]
    },
    {
     "name": "stdout",
     "output_type": "stream",
     "text": [
      "2443460: Missing la_2ch_ED.nii.gz file\n",
      "2443460: Missing la_2ch.nii.gz file\n",
      "2443460: Missing seg_la_2ch_ES.nii.gz file\n",
      "2443460: Missing la_2ch_ES.nii.gz file\n",
      "2443460: Missing sa.nii.gz file\n",
      "2443460: Missing seg_la_2ch_ED.nii.gz file\n",
      "2443460: Missing seg_la_2ch.nii.gz file\n",
      "2444929: Missing sa.nii.gz file\n"
     ]
    },
    {
     "name": "stderr",
     "output_type": "stream",
     "text": [
      " 28%|██▊       | 16828/59975 [01:24<03:58, 181.25it/s]"
     ]
    },
    {
     "name": "stdout",
     "output_type": "stream",
     "text": [
      "2465566: Missing sa.nii.gz file\n"
     ]
    },
    {
     "name": "stderr",
     "output_type": "stream",
     "text": [
      " 28%|██▊       | 17049/59975 [01:25<03:30, 203.98it/s]"
     ]
    },
    {
     "name": "stdout",
     "output_type": "stream",
     "text": [
      "2483329: Missing sa.nii.gz file\n"
     ]
    },
    {
     "name": "stderr",
     "output_type": "stream",
     "text": [
      " 30%|██▉       | 17765/59975 [01:29<03:26, 204.02it/s]"
     ]
    },
    {
     "name": "stdout",
     "output_type": "stream",
     "text": [
      "2542808: Missing sa.nii.gz file\n"
     ]
    },
    {
     "name": "stderr",
     "output_type": "stream",
     "text": [
      " 31%|███       | 18332/59975 [01:32<03:15, 212.75it/s]"
     ]
    },
    {
     "name": "stdout",
     "output_type": "stream",
     "text": [
      "2589354: Missing la_2ch_ED.nii.gz file\n",
      "2589354: Missing la_2ch.nii.gz file\n",
      "2589354: Missing seg_la_2ch_ES.nii.gz file\n",
      "2589354: Missing la_2ch_ES.nii.gz file\n",
      "2589354: Missing seg_la_2ch_ED.nii.gz file\n",
      "2589354: Missing seg_la_2ch.nii.gz file\n"
     ]
    },
    {
     "name": "stderr",
     "output_type": "stream",
     "text": [
      " 31%|███       | 18398/59975 [01:32<03:16, 211.20it/s]"
     ]
    },
    {
     "name": "stdout",
     "output_type": "stream",
     "text": [
      "2594998: Missing sa.nii.gz file\n"
     ]
    },
    {
     "name": "stderr",
     "output_type": "stream",
     "text": [
      " 31%|███       | 18586/59975 [01:33<03:37, 190.71it/s]"
     ]
    },
    {
     "name": "stdout",
     "output_type": "stream",
     "text": [
      "2609714: Missing sa.nii.gz file\n"
     ]
    },
    {
     "name": "stderr",
     "output_type": "stream",
     "text": [
      " 31%|███       | 18628/59975 [01:34<03:31, 195.23it/s]"
     ]
    },
    {
     "name": "stdout",
     "output_type": "stream",
     "text": [
      "2614035: Missing sa.nii.gz file\n"
     ]
    },
    {
     "name": "stderr",
     "output_type": "stream",
     "text": [
      " 31%|███▏      | 18750/59975 [01:34<03:25, 200.40it/s]"
     ]
    },
    {
     "name": "stdout",
     "output_type": "stream",
     "text": [
      "2623809: Missing sa.nii.gz file\n",
      "2625501: Missing sa.nii.gz file\n"
     ]
    },
    {
     "name": "stderr",
     "output_type": "stream",
     "text": [
      " 32%|███▏      | 19067/59975 [01:36<03:39, 186.56it/s]"
     ]
    },
    {
     "name": "stdout",
     "output_type": "stream",
     "text": [
      "2653352: Missing sa.nii.gz file\n"
     ]
    },
    {
     "name": "stderr",
     "output_type": "stream",
     "text": [
      " 32%|███▏      | 19231/59975 [01:37<03:33, 190.64it/s]"
     ]
    },
    {
     "name": "stdout",
     "output_type": "stream",
     "text": [
      "2665964: Missing la_2ch_ED.nii.gz file\n",
      "2665964: Missing la_2ch.nii.gz file\n",
      "2665964: Missing seg_la_2ch_ES.nii.gz file\n",
      "2665964: Missing la_2ch_ES.nii.gz file\n",
      "2665964: Missing sa.nii.gz file\n",
      "2665964: Missing seg_la_2ch_ED.nii.gz file\n",
      "2665964: Missing seg_la_2ch.nii.gz file\n"
     ]
    },
    {
     "name": "stderr",
     "output_type": "stream",
     "text": [
      " 32%|███▏      | 19362/59975 [01:37<03:25, 197.34it/s]"
     ]
    },
    {
     "name": "stdout",
     "output_type": "stream",
     "text": [
      "2677527: Missing la_2ch_ED.nii.gz file\n",
      "2677527: Missing la_2ch.nii.gz file\n",
      "2677527: Missing seg_la_2ch_ES.nii.gz file\n",
      "2677527: Missing la_2ch_ES.nii.gz file\n",
      "2677527: Missing seg_la_2ch_ED.nii.gz file\n",
      "2677527: Missing seg_la_2ch.nii.gz file\n",
      "2678911: Missing la_2ch_ED.nii.gz file\n",
      "2678911: Missing la_2ch.nii.gz file\n",
      "2678911: Missing seg_la_2ch_ES.nii.gz file\n",
      "2678911: Missing la_2ch_ES.nii.gz file\n",
      "2678911: Missing sa.nii.gz file\n",
      "2678911: Missing seg_la_2ch_ED.nii.gz file\n",
      "2678911: Missing seg_la_2ch.nii.gz file\n"
     ]
    },
    {
     "name": "stderr",
     "output_type": "stream",
     "text": [
      " 33%|███▎      | 19755/59975 [01:39<03:03, 218.86it/s]"
     ]
    },
    {
     "name": "stdout",
     "output_type": "stream",
     "text": [
      "2709066: Missing sa.nii.gz file\n"
     ]
    },
    {
     "name": "stderr",
     "output_type": "stream",
     "text": [
      " 34%|███▍      | 20473/59975 [01:43<03:48, 173.14it/s]"
     ]
    },
    {
     "name": "stdout",
     "output_type": "stream",
     "text": [
      "2769113: Missing sa.nii.gz file\n",
      "2770477: Missing sa.nii.gz file\n"
     ]
    },
    {
     "name": "stderr",
     "output_type": "stream",
     "text": [
      " 34%|███▍      | 20533/59975 [01:43<03:29, 188.44it/s]"
     ]
    },
    {
     "name": "stdout",
     "output_type": "stream",
     "text": [
      "2774301: Missing sa.nii.gz file\n"
     ]
    },
    {
     "name": "stderr",
     "output_type": "stream",
     "text": [
      " 35%|███▌      | 21172/59975 [01:47<03:27, 187.10it/s]"
     ]
    },
    {
     "name": "stdout",
     "output_type": "stream",
     "text": [
      "2826385: Missing sa.nii.gz file\n"
     ]
    },
    {
     "name": "stderr",
     "output_type": "stream",
     "text": [
      " 36%|███▌      | 21623/59975 [01:49<03:24, 187.71it/s]"
     ]
    },
    {
     "name": "stdout",
     "output_type": "stream",
     "text": [
      "2866319: Missing la_2ch_ED.nii.gz file\n",
      "2866319: Missing seg_la_2ch_ES.nii.gz file\n",
      "2866319: Missing la_2ch_ES.nii.gz file\n",
      "2866319: Missing seg_la_2ch_ED.nii.gz file\n",
      "2866319: Missing seg_la_2ch.nii.gz file\n"
     ]
    },
    {
     "name": "stderr",
     "output_type": "stream",
     "text": [
      " 36%|███▋      | 21871/59975 [01:50<03:24, 186.42it/s]"
     ]
    },
    {
     "name": "stdout",
     "output_type": "stream",
     "text": [
      "2884305: Missing sa.nii.gz file\n"
     ]
    },
    {
     "name": "stderr",
     "output_type": "stream",
     "text": [
      " 37%|███▋      | 22173/59975 [01:52<03:16, 192.59it/s]"
     ]
    },
    {
     "name": "stdout",
     "output_type": "stream",
     "text": [
      "2908825: Missing sa.nii.gz file\n"
     ]
    },
    {
     "name": "stderr",
     "output_type": "stream",
     "text": [
      " 37%|███▋      | 22338/59975 [01:53<03:11, 196.53it/s]"
     ]
    },
    {
     "name": "stdout",
     "output_type": "stream",
     "text": [
      "2923366: Missing sa.nii.gz file\n"
     ]
    },
    {
     "name": "stderr",
     "output_type": "stream",
     "text": [
      " 38%|███▊      | 22918/59975 [01:56<03:09, 195.44it/s]"
     ]
    },
    {
     "name": "stdout",
     "output_type": "stream",
     "text": [
      "2975309: Missing sa.nii.gz file\n"
     ]
    },
    {
     "name": "stderr",
     "output_type": "stream",
     "text": [
      " 39%|███▉      | 23360/59975 [01:58<02:58, 205.39it/s]"
     ]
    },
    {
     "name": "stdout",
     "output_type": "stream",
     "text": [
      "3017152: Missing sa.nii.gz file\n"
     ]
    },
    {
     "name": "stderr",
     "output_type": "stream",
     "text": [
      " 39%|███▉      | 23638/59975 [01:59<03:09, 191.89it/s]"
     ]
    },
    {
     "name": "stdout",
     "output_type": "stream",
     "text": [
      "3040199: Missing sa.nii.gz file\n"
     ]
    },
    {
     "name": "stderr",
     "output_type": "stream",
     "text": [
      " 40%|███▉      | 23771/59975 [02:00<03:03, 196.87it/s]"
     ]
    },
    {
     "name": "stdout",
     "output_type": "stream",
     "text": [
      "3051240: Missing sa.nii.gz file\n",
      "3053932: Missing la_2ch_ED.nii.gz file\n",
      "3053932: Missing seg_la_2ch_ES.nii.gz file\n",
      "3053932: Missing la_2ch_ES.nii.gz file\n",
      "3053932: Missing seg_la_2ch_ED.nii.gz file\n",
      "3053932: Missing seg_la_2ch.nii.gz file\n"
     ]
    },
    {
     "name": "stderr",
     "output_type": "stream",
     "text": [
      " 40%|███▉      | 23987/59975 [02:01<02:49, 211.96it/s]"
     ]
    },
    {
     "name": "stdout",
     "output_type": "stream",
     "text": [
      "3067647: Missing sa.nii.gz file\n"
     ]
    },
    {
     "name": "stderr",
     "output_type": "stream",
     "text": [
      " 40%|████      | 24275/59975 [02:03<03:15, 183.01it/s]"
     ]
    },
    {
     "name": "stdout",
     "output_type": "stream",
     "text": [
      "3094425: Missing sa.nii.gz file\n",
      "3096593: Missing sa.nii.gz file\n"
     ]
    },
    {
     "name": "stderr",
     "output_type": "stream",
     "text": [
      " 41%|████      | 24390/59975 [02:03<03:11, 186.30it/s]"
     ]
    },
    {
     "name": "stdout",
     "output_type": "stream",
     "text": [
      "3103832: Missing la_2ch_ED.nii.gz file\n",
      "3103832: Missing la_2ch.nii.gz file\n",
      "3103832: Missing seg_la_2ch_ES.nii.gz file\n",
      "3103832: Missing la_2ch_ES.nii.gz file\n",
      "3103832: Missing seg_la_2ch_ED.nii.gz file\n",
      "3103832: Missing seg_la_2ch.nii.gz file\n",
      "3103953: Missing sa.nii.gz file\n",
      "3103971: Missing sa.nii.gz file\n"
     ]
    },
    {
     "name": "stderr",
     "output_type": "stream",
     "text": [
      " 41%|████      | 24575/59975 [02:04<02:58, 198.77it/s]"
     ]
    },
    {
     "name": "stdout",
     "output_type": "stream",
     "text": [
      "3121057: Missing la_2ch_ED.nii.gz file\n",
      "3121057: Missing la_2ch.nii.gz file\n",
      "3121057: Missing seg_la_2ch_ES.nii.gz file\n",
      "3121057: Missing la_2ch_ES.nii.gz file\n",
      "3121057: Missing sa.nii.gz file\n",
      "3121057: Missing seg_la_2ch_ED.nii.gz file\n",
      "3121057: Missing seg_la_2ch.nii.gz file\n"
     ]
    },
    {
     "name": "stderr",
     "output_type": "stream",
     "text": [
      " 42%|████▏     | 25082/59975 [02:07<02:52, 202.30it/s]"
     ]
    },
    {
     "name": "stdout",
     "output_type": "stream",
     "text": [
      "3163758: Missing la_2ch_ED.nii.gz file\n",
      "3163758: Missing seg_la_2ch_ES.nii.gz file\n",
      "3163758: Missing la_2ch_ES.nii.gz file\n",
      "3163758: Missing seg_la_2ch_ED.nii.gz file\n",
      "3163758: Missing seg_la_2ch.nii.gz file\n"
     ]
    },
    {
     "name": "stderr",
     "output_type": "stream",
     "text": [
      " 43%|████▎     | 25593/59975 [02:12<03:04, 185.89it/s]"
     ]
    },
    {
     "name": "stdout",
     "output_type": "stream",
     "text": [
      "3209283: Missing sa.nii.gz file\n",
      "3209339: Missing sa.nii.gz file\n"
     ]
    },
    {
     "name": "stderr",
     "output_type": "stream",
     "text": [
      " 43%|████▎     | 25757/59975 [02:13<02:55, 195.51it/s]"
     ]
    },
    {
     "name": "stdout",
     "output_type": "stream",
     "text": [
      "3222642: Missing la_2ch_ED.nii.gz file\n",
      "3222642: Missing la_2ch.nii.gz file\n",
      "3222642: Missing seg_la_2ch_ES.nii.gz file\n",
      "3222642: Missing la_2ch_ES.nii.gz file\n",
      "3222642: Missing seg_la_2ch_ED.nii.gz file\n",
      "3222642: Missing seg_la_2ch.nii.gz file\n",
      "3222655: Missing sa.nii.gz file\n"
     ]
    },
    {
     "name": "stderr",
     "output_type": "stream",
     "text": [
      " 43%|████▎     | 25989/59975 [02:14<02:57, 191.79it/s]"
     ]
    },
    {
     "name": "stdout",
     "output_type": "stream",
     "text": [
      "3239879: Missing la_2ch_ED.nii.gz file\n",
      "3239879: Missing la_2ch.nii.gz file\n",
      "3239879: Missing seg_la_2ch_ES.nii.gz file\n",
      "3239879: Missing la_2ch_ES.nii.gz file\n",
      "3239879: Missing sa.nii.gz file\n",
      "3239879: Missing seg_la_2ch_ED.nii.gz file\n",
      "3239879: Missing seg_la_2ch.nii.gz file\n"
     ]
    },
    {
     "name": "stderr",
     "output_type": "stream",
     "text": [
      " 44%|████▎     | 26202/59975 [02:15<03:16, 171.86it/s]"
     ]
    },
    {
     "name": "stdout",
     "output_type": "stream",
     "text": [
      "3257669: Missing sa.nii.gz file\n"
     ]
    },
    {
     "name": "stderr",
     "output_type": "stream",
     "text": [
      " 44%|████▍     | 26320/59975 [02:16<03:17, 170.73it/s]"
     ]
    },
    {
     "name": "stdout",
     "output_type": "stream",
     "text": [
      "3267291: Missing sa.nii.gz file\n"
     ]
    },
    {
     "name": "stderr",
     "output_type": "stream",
     "text": [
      " 44%|████▍     | 26578/59975 [02:17<03:05, 180.07it/s]"
     ]
    },
    {
     "name": "stdout",
     "output_type": "stream",
     "text": [
      "3288537: Missing sa.nii.gz file\n"
     ]
    },
    {
     "name": "stderr",
     "output_type": "stream",
     "text": [
      " 45%|████▍     | 26781/59975 [02:18<02:33, 216.14it/s]"
     ]
    },
    {
     "name": "stdout",
     "output_type": "stream",
     "text": [
      "3304808: Missing sa.nii.gz file\n"
     ]
    },
    {
     "name": "stderr",
     "output_type": "stream",
     "text": [
      " 45%|████▌     | 27003/59975 [02:19<02:24, 228.31it/s]"
     ]
    },
    {
     "name": "stdout",
     "output_type": "stream",
     "text": [
      "3325748: Missing la_2ch_ED.nii.gz file\n",
      "3325748: Missing la_2ch.nii.gz file\n",
      "3325748: Missing seg_la_2ch_ES.nii.gz file\n",
      "3325748: Missing la_2ch_ES.nii.gz file\n",
      "3325748: Missing sa.nii.gz file\n",
      "3325748: Missing seg_la_2ch_ED.nii.gz file\n",
      "3325748: Missing seg_la_2ch.nii.gz file\n"
     ]
    },
    {
     "name": "stderr",
     "output_type": "stream",
     "text": [
      " 45%|████▌     | 27052/59975 [02:19<02:30, 218.34it/s]"
     ]
    },
    {
     "name": "stdout",
     "output_type": "stream",
     "text": [
      "3329119: Missing sa.nii.gz file\n",
      "3330393: Missing sa.nii.gz file\n"
     ]
    },
    {
     "name": "stderr",
     "output_type": "stream",
     "text": [
      " 45%|████▌     | 27147/59975 [02:20<02:25, 225.54it/s]"
     ]
    },
    {
     "name": "stdout",
     "output_type": "stream",
     "text": [
      "3337461: Missing sa.nii.gz file\n"
     ]
    },
    {
     "name": "stderr",
     "output_type": "stream",
     "text": [
      " 46%|████▌     | 27589/59975 [02:22<02:45, 196.03it/s]"
     ]
    },
    {
     "name": "stdout",
     "output_type": "stream",
     "text": [
      "3375141: Missing la_2ch_ED.nii.gz file\n",
      "3375141: Missing la_2ch.nii.gz file\n",
      "3375141: Missing seg_la_2ch_ES.nii.gz file\n",
      "3375141: Missing la_2ch_ES.nii.gz file\n",
      "3375141: Missing seg_la_2ch_ED.nii.gz file\n",
      "3375141: Missing seg_la_2ch.nii.gz file\n"
     ]
    },
    {
     "name": "stderr",
     "output_type": "stream",
     "text": [
      " 46%|████▌     | 27609/59975 [02:22<02:46, 194.81it/s]"
     ]
    },
    {
     "name": "stdout",
     "output_type": "stream",
     "text": [
      "3378755: Missing sa.nii.gz file\n"
     ]
    },
    {
     "name": "stderr",
     "output_type": "stream",
     "text": [
      " 47%|████▋     | 27889/59975 [02:25<03:58, 134.64it/s]"
     ]
    },
    {
     "name": "stdout",
     "output_type": "stream",
     "text": [
      "3399936: Missing sa.nii.gz file\n"
     ]
    },
    {
     "name": "stderr",
     "output_type": "stream",
     "text": [
      " 47%|████▋     | 28074/59975 [02:26<03:51, 137.65it/s]"
     ]
    },
    {
     "name": "stdout",
     "output_type": "stream",
     "text": [
      "3415069: Missing sa.nii.gz file\n",
      "3416985: Missing sa.nii.gz file\n"
     ]
    },
    {
     "name": "stderr",
     "output_type": "stream",
     "text": [
      " 48%|████▊     | 28511/59975 [02:29<02:52, 182.91it/s]"
     ]
    },
    {
     "name": "stdout",
     "output_type": "stream",
     "text": [
      "3450012: Missing sa.nii.gz file\n"
     ]
    },
    {
     "name": "stderr",
     "output_type": "stream",
     "text": [
      " 48%|████▊     | 28786/59975 [02:30<02:40, 194.28it/s]"
     ]
    },
    {
     "name": "stdout",
     "output_type": "stream",
     "text": [
      "3472358: Missing la_2ch_ED.nii.gz file\n",
      "3472358: Missing la_2ch.nii.gz file\n",
      "3472358: Missing seg_la_2ch_ES.nii.gz file\n",
      "3472358: Missing la_2ch_ES.nii.gz file\n",
      "3472358: Missing sa.nii.gz file\n",
      "3472358: Missing seg_la_2ch_ED.nii.gz file\n",
      "3472358: Missing seg_la_2ch.nii.gz file\n"
     ]
    },
    {
     "name": "stderr",
     "output_type": "stream",
     "text": [
      " 48%|████▊     | 28905/59975 [02:31<03:00, 172.58it/s]"
     ]
    },
    {
     "name": "stdout",
     "output_type": "stream",
     "text": [
      "3483707: Missing sa.nii.gz file\n"
     ]
    },
    {
     "name": "stderr",
     "output_type": "stream",
     "text": [
      " 49%|████▉     | 29551/59975 [02:34<02:32, 199.96it/s]"
     ]
    },
    {
     "name": "stdout",
     "output_type": "stream",
     "text": [
      "3536046: Missing sa.nii.gz file\n"
     ]
    },
    {
     "name": "stderr",
     "output_type": "stream",
     "text": [
      " 50%|████▉     | 29851/59975 [02:36<02:32, 198.05it/s]"
     ]
    },
    {
     "name": "stdout",
     "output_type": "stream",
     "text": [
      "3558862: Missing sa.nii.gz file\n"
     ]
    },
    {
     "name": "stderr",
     "output_type": "stream",
     "text": [
      " 50%|█████     | 30266/59975 [02:38<02:29, 198.75it/s]"
     ]
    },
    {
     "name": "stdout",
     "output_type": "stream",
     "text": [
      "3596032: Missing sa.nii.gz file\n"
     ]
    },
    {
     "name": "stderr",
     "output_type": "stream",
     "text": [
      " 51%|█████     | 30399/59975 [02:39<02:18, 213.35it/s]"
     ]
    },
    {
     "name": "stdout",
     "output_type": "stream",
     "text": [
      "3606203: Missing sa.nii.gz file\n",
      "3606838: Missing sa.nii.gz file\n"
     ]
    },
    {
     "name": "stderr",
     "output_type": "stream",
     "text": [
      " 52%|█████▏    | 30911/59975 [02:41<02:21, 204.91it/s]"
     ]
    },
    {
     "name": "stdout",
     "output_type": "stream",
     "text": [
      "3650871: Missing sa.nii.gz file\n",
      "3652421: Missing sa.nii.gz file\n"
     ]
    },
    {
     "name": "stderr",
     "output_type": "stream",
     "text": [
      " 52%|█████▏    | 31432/59975 [02:44<02:23, 198.91it/s]"
     ]
    },
    {
     "name": "stdout",
     "output_type": "stream",
     "text": [
      "3693362: Missing sa.nii.gz file\n"
     ]
    },
    {
     "name": "stderr",
     "output_type": "stream",
     "text": [
      " 53%|█████▎    | 31623/59975 [02:45<02:02, 230.66it/s]"
     ]
    },
    {
     "name": "stdout",
     "output_type": "stream",
     "text": [
      "3708412: Missing sa.nii.gz file\n"
     ]
    },
    {
     "name": "stderr",
     "output_type": "stream",
     "text": [
      " 53%|█████▎    | 31843/59975 [02:46<02:13, 210.54it/s]"
     ]
    },
    {
     "name": "stdout",
     "output_type": "stream",
     "text": [
      "3727028: Missing sa.nii.gz file\n"
     ]
    },
    {
     "name": "stderr",
     "output_type": "stream",
     "text": [
      " 53%|█████▎    | 31909/59975 [02:46<02:18, 202.00it/s]"
     ]
    },
    {
     "name": "stdout",
     "output_type": "stream",
     "text": [
      "3732544: Missing sa.nii.gz file\n"
     ]
    },
    {
     "name": "stderr",
     "output_type": "stream",
     "text": [
      " 53%|█████▎    | 31984/59975 [02:46<02:07, 219.17it/s]"
     ]
    },
    {
     "name": "stdout",
     "output_type": "stream",
     "text": [
      "3738522: Missing sa.nii.gz file\n"
     ]
    },
    {
     "name": "stderr",
     "output_type": "stream",
     "text": [
      " 56%|█████▌    | 33294/59975 [02:53<02:13, 199.40it/s]"
     ]
    },
    {
     "name": "stdout",
     "output_type": "stream",
     "text": [
      "3847516: Missing sa.nii.gz file\n"
     ]
    },
    {
     "name": "stderr",
     "output_type": "stream",
     "text": [
      " 56%|█████▋    | 33803/59975 [02:55<02:08, 203.26it/s]"
     ]
    },
    {
     "name": "stdout",
     "output_type": "stream",
     "text": [
      "3891250: Missing sa.nii.gz file\n"
     ]
    },
    {
     "name": "stderr",
     "output_type": "stream",
     "text": [
      " 57%|█████▋    | 34021/59975 [02:57<02:14, 192.29it/s]"
     ]
    },
    {
     "name": "stdout",
     "output_type": "stream",
     "text": [
      "3910794: Missing sa.nii.gz file\n"
     ]
    },
    {
     "name": "stderr",
     "output_type": "stream",
     "text": [
      " 58%|█████▊    | 34688/59975 [03:00<01:53, 223.35it/s]"
     ]
    },
    {
     "name": "stdout",
     "output_type": "stream",
     "text": [
      "3964797: Missing sa.nii.gz file\n",
      "3967148: Missing sa.nii.gz file\n",
      "3967806: Missing sa.nii.gz file\n"
     ]
    },
    {
     "name": "stderr",
     "output_type": "stream",
     "text": [
      " 59%|█████▊    | 35163/59975 [03:02<02:04, 199.86it/s]"
     ]
    },
    {
     "name": "stdout",
     "output_type": "stream",
     "text": [
      "4005224: Missing la_2ch_ED.nii.gz file\n",
      "4005224: Missing la_2ch.nii.gz file\n",
      "4005224: Missing seg_la_2ch_ES.nii.gz file\n",
      "4005224: Missing la_2ch_ES.nii.gz file\n",
      "4005224: Missing seg_la_2ch_ED.nii.gz file\n",
      "4005224: Missing seg_la_2ch.nii.gz file\n"
     ]
    },
    {
     "name": "stderr",
     "output_type": "stream",
     "text": [
      " 59%|█████▉    | 35295/59975 [03:03<02:23, 171.70it/s]"
     ]
    },
    {
     "name": "stdout",
     "output_type": "stream",
     "text": [
      "4017161: Missing sa.nii.gz file\n"
     ]
    },
    {
     "name": "stderr",
     "output_type": "stream",
     "text": [
      " 59%|█████▉    | 35422/59975 [03:04<02:01, 202.44it/s]"
     ]
    },
    {
     "name": "stdout",
     "output_type": "stream",
     "text": [
      "4025436: Missing sa.nii.gz file\n",
      "4025720: Missing sa.nii.gz file\n"
     ]
    },
    {
     "name": "stderr",
     "output_type": "stream",
     "text": [
      " 59%|█████▉    | 35650/59975 [03:05<02:10, 185.80it/s]"
     ]
    },
    {
     "name": "stdout",
     "output_type": "stream",
     "text": [
      "4046984: Missing sa.nii.gz file\n",
      "4049974: Missing la_2ch_ED.nii.gz file\n",
      "4049974: Missing la_2ch.nii.gz file\n",
      "4049974: Missing seg_la_2ch_ES.nii.gz file\n",
      "4049974: Missing la_2ch_ES.nii.gz file\n",
      "4049974: Missing sa.nii.gz file\n",
      "4049974: Missing seg_la_2ch_ED.nii.gz file\n",
      "4049974: Missing seg_la_2ch.nii.gz file\n"
     ]
    },
    {
     "name": "stderr",
     "output_type": "stream",
     "text": [
      " 60%|██████    | 36229/59975 [03:07<01:57, 202.43it/s]"
     ]
    },
    {
     "name": "stdout",
     "output_type": "stream",
     "text": [
      "4091423: Missing sa.nii.gz file\n",
      "4092387: Missing seg4_la_4ch_ED.nii.gz file\n",
      "4092387: Missing seg4_la_4ch.nii.gz file\n",
      "4092387: Missing seg4_la_4ch_ES.nii.gz file\n"
     ]
    },
    {
     "name": "stderr",
     "output_type": "stream",
     "text": [
      " 61%|██████    | 36699/59975 [03:10<01:56, 200.50it/s]"
     ]
    },
    {
     "name": "stdout",
     "output_type": "stream",
     "text": [
      "4130513: Missing sa.nii.gz file\n",
      "4132427: Missing seg4_la_4ch_ED.nii.gz file\n",
      "4132427: Missing seg4_la_4ch.nii.gz file\n",
      "4132427: Missing seg4_la_4ch_ES.nii.gz file\n"
     ]
    },
    {
     "name": "stderr",
     "output_type": "stream",
     "text": [
      " 61%|██████▏   | 36745/59975 [03:10<02:01, 191.33it/s]"
     ]
    },
    {
     "name": "stdout",
     "output_type": "stream",
     "text": [
      "4136529: Missing sa.nii.gz file\n"
     ]
    },
    {
     "name": "stderr",
     "output_type": "stream",
     "text": [
      " 62%|██████▏   | 37092/59975 [03:13<01:51, 204.68it/s]"
     ]
    },
    {
     "name": "stdout",
     "output_type": "stream",
     "text": [
      "4161248: Missing la_2ch_ED.nii.gz file\n",
      "4161248: Missing la_2ch.nii.gz file\n",
      "4161248: Missing seg_la_2ch_ES.nii.gz file\n",
      "4161248: Missing la_2ch_ES.nii.gz file\n",
      "4161248: Missing sa.nii.gz file\n",
      "4161248: Missing seg_la_2ch_ED.nii.gz file\n",
      "4161248: Missing seg_la_2ch.nii.gz file\n"
     ]
    },
    {
     "name": "stderr",
     "output_type": "stream",
     "text": [
      " 62%|██████▏   | 37225/59975 [03:14<02:42, 140.34it/s]"
     ]
    },
    {
     "name": "stdout",
     "output_type": "stream",
     "text": [
      "4173490: Missing seg4_la_4ch_ED.nii.gz file\n",
      "4173490: Missing seg4_la_4ch.nii.gz file\n",
      "4173490: Missing seg4_la_4ch_ES.nii.gz file\n"
     ]
    },
    {
     "name": "stderr",
     "output_type": "stream",
     "text": [
      " 63%|██████▎   | 37673/59975 [03:16<01:54, 195.23it/s]"
     ]
    },
    {
     "name": "stdout",
     "output_type": "stream",
     "text": [
      "4210061: Missing sa.nii.gz file\n"
     ]
    },
    {
     "name": "stderr",
     "output_type": "stream",
     "text": [
      " 65%|██████▌   | 39247/59975 [03:24<01:52, 184.22it/s]"
     ]
    },
    {
     "name": "stdout",
     "output_type": "stream",
     "text": [
      "4338855: Missing sa.nii.gz file\n"
     ]
    },
    {
     "name": "stderr",
     "output_type": "stream",
     "text": [
      " 66%|██████▌   | 39375/59975 [03:25<01:41, 202.41it/s]"
     ]
    },
    {
     "name": "stdout",
     "output_type": "stream",
     "text": [
      "4349598: Missing sa.nii.gz file\n"
     ]
    },
    {
     "name": "stderr",
     "output_type": "stream",
     "text": [
      " 66%|██████▋   | 39867/59975 [03:27<01:53, 177.07it/s]"
     ]
    },
    {
     "name": "stdout",
     "output_type": "stream",
     "text": [
      "4388992: Missing sa.nii.gz file\n",
      "4389593: Missing sa.nii.gz file\n"
     ]
    },
    {
     "name": "stderr",
     "output_type": "stream",
     "text": [
      " 67%|██████▋   | 39996/59975 [03:28<01:54, 174.35it/s]"
     ]
    },
    {
     "name": "stdout",
     "output_type": "stream",
     "text": [
      "4399372: Missing sa.nii.gz file\n",
      "4399620: Missing sa.nii.gz file\n"
     ]
    },
    {
     "name": "stderr",
     "output_type": "stream",
     "text": [
      " 68%|██████▊   | 40536/59975 [03:31<01:32, 210.45it/s]"
     ]
    },
    {
     "name": "stdout",
     "output_type": "stream",
     "text": [
      "4440647: Missing la_2ch_ED.nii.gz file\n",
      "4440647: Missing la_2ch.nii.gz file\n",
      "4440647: Missing seg_la_2ch_ES.nii.gz file\n",
      "4440647: Missing la_2ch_ES.nii.gz file\n",
      "4440647: Missing sa.nii.gz file\n",
      "4440647: Missing seg_la_2ch_ED.nii.gz file\n",
      "4440647: Missing seg_la_2ch.nii.gz file\n"
     ]
    },
    {
     "name": "stderr",
     "output_type": "stream",
     "text": [
      " 68%|██████▊   | 40961/59975 [03:33<01:30, 210.03it/s]"
     ]
    },
    {
     "name": "stdout",
     "output_type": "stream",
     "text": [
      "4477034: Missing sa.nii.gz file\n"
     ]
    },
    {
     "name": "stderr",
     "output_type": "stream",
     "text": [
      " 68%|██████▊   | 41051/59975 [03:34<01:28, 214.14it/s]"
     ]
    },
    {
     "name": "stdout",
     "output_type": "stream",
     "text": [
      "4484223: Missing sa.nii.gz file\n"
     ]
    },
    {
     "name": "stderr",
     "output_type": "stream",
     "text": [
      " 69%|██████▉   | 41330/59975 [03:35<01:25, 218.35it/s]"
     ]
    },
    {
     "name": "stdout",
     "output_type": "stream",
     "text": [
      "4505273: Missing sa.nii.gz file\n",
      "4507988: Missing sa.nii.gz file\n"
     ]
    },
    {
     "name": "stderr",
     "output_type": "stream",
     "text": [
      " 69%|██████▉   | 41473/59975 [03:36<01:24, 219.37it/s]"
     ]
    },
    {
     "name": "stdout",
     "output_type": "stream",
     "text": [
      "4518590: Missing la_2ch_ED.nii.gz file\n",
      "4518590: Missing la_2ch.nii.gz file\n",
      "4518590: Missing seg_la_2ch_ES.nii.gz file\n",
      "4518590: Missing la_2ch_ES.nii.gz file\n",
      "4518590: Missing sa.nii.gz file\n",
      "4518590: Missing seg_la_2ch_ED.nii.gz file\n",
      "4518590: Missing seg_la_2ch.nii.gz file\n",
      "4519828: Missing sa.nii.gz file\n"
     ]
    },
    {
     "name": "stderr",
     "output_type": "stream",
     "text": [
      " 70%|██████▉   | 41799/59975 [03:37<01:25, 211.66it/s]"
     ]
    },
    {
     "name": "stdout",
     "output_type": "stream",
     "text": [
      "4544128: Missing la_2ch_ED.nii.gz file\n",
      "4544128: Missing la_2ch.nii.gz file\n",
      "4544128: Missing seg_la_2ch_ES.nii.gz file\n",
      "4544128: Missing la_2ch_ES.nii.gz file\n",
      "4544128: Missing seg_la_2ch_ED.nii.gz file\n",
      "4544128: Missing seg_la_2ch.nii.gz file\n",
      "4544294: Missing sa.nii.gz file\n"
     ]
    },
    {
     "name": "stderr",
     "output_type": "stream",
     "text": [
      " 70%|██████▉   | 41870/59975 [03:37<01:21, 221.04it/s]"
     ]
    },
    {
     "name": "stdout",
     "output_type": "stream",
     "text": [
      "4547635: Missing sa.nii.gz file\n"
     ]
    },
    {
     "name": "stderr",
     "output_type": "stream",
     "text": [
      " 71%|███████   | 42391/59975 [03:40<01:18, 224.12it/s]"
     ]
    },
    {
     "name": "stdout",
     "output_type": "stream",
     "text": [
      "4589335: Missing la_2ch_ED.nii.gz file\n",
      "4589335: Missing la_2ch.nii.gz file\n",
      "4589335: Missing seg_la_2ch_ES.nii.gz file\n",
      "4589335: Missing la_2ch_ES.nii.gz file\n",
      "4589335: Missing seg_la_2ch_ED.nii.gz file\n",
      "4589335: Missing seg_la_2ch.nii.gz file\n"
     ]
    },
    {
     "name": "stderr",
     "output_type": "stream",
     "text": [
      " 72%|███████▏  | 43163/59975 [03:43<01:18, 215.06it/s]"
     ]
    },
    {
     "name": "stdout",
     "output_type": "stream",
     "text": [
      "4649712: Missing sa.nii.gz file\n"
     ]
    },
    {
     "name": "stderr",
     "output_type": "stream",
     "text": [
      " 73%|███████▎  | 43578/59975 [03:45<01:16, 214.53it/s]"
     ]
    },
    {
     "name": "stdout",
     "output_type": "stream",
     "text": [
      "4685583: Missing sa.nii.gz file\n"
     ]
    },
    {
     "name": "stderr",
     "output_type": "stream",
     "text": [
      " 73%|███████▎  | 44026/59975 [03:47<01:19, 201.22it/s]"
     ]
    },
    {
     "name": "stdout",
     "output_type": "stream",
     "text": [
      "4722749: Missing la_2ch_ED.nii.gz file\n",
      "4722749: Missing la_2ch.nii.gz file\n",
      "4722749: Missing seg_la_2ch_ES.nii.gz file\n",
      "4722749: Missing la_2ch_ES.nii.gz file\n",
      "4722749: Missing seg_la_2ch_ED.nii.gz file\n",
      "4722749: Missing seg_la_2ch.nii.gz file\n"
     ]
    },
    {
     "name": "stderr",
     "output_type": "stream",
     "text": [
      " 74%|███████▍  | 44520/59975 [03:50<01:15, 204.03it/s]"
     ]
    },
    {
     "name": "stdout",
     "output_type": "stream",
     "text": [
      "4763991: Missing sa.nii.gz file\n"
     ]
    },
    {
     "name": "stderr",
     "output_type": "stream",
     "text": [
      " 75%|███████▍  | 44754/59975 [03:51<01:16, 198.26it/s]"
     ]
    },
    {
     "name": "stdout",
     "output_type": "stream",
     "text": [
      "4781822: Missing sa.nii.gz file\n"
     ]
    },
    {
     "name": "stderr",
     "output_type": "stream",
     "text": [
      " 75%|███████▍  | 44953/59975 [03:52<01:19, 189.03it/s]"
     ]
    },
    {
     "name": "stdout",
     "output_type": "stream",
     "text": [
      "4799562: Missing la_2ch_ED.nii.gz file\n",
      "4799562: Missing la_2ch.nii.gz file\n",
      "4799562: Missing seg_la_2ch_ES.nii.gz file\n",
      "4799562: Missing la_2ch_ES.nii.gz file\n",
      "4799562: Missing seg_la_2ch_ED.nii.gz file\n",
      "4799562: Missing seg_la_2ch.nii.gz file\n"
     ]
    },
    {
     "name": "stderr",
     "output_type": "stream",
     "text": [
      " 76%|███████▋  | 45823/59975 [03:57<01:18, 181.19it/s]"
     ]
    },
    {
     "name": "stdout",
     "output_type": "stream",
     "text": [
      "4868575: Missing sa.nii.gz file\n"
     ]
    },
    {
     "name": "stderr",
     "output_type": "stream",
     "text": [
      " 77%|███████▋  | 46287/59975 [03:59<01:09, 196.27it/s]"
     ]
    },
    {
     "name": "stdout",
     "output_type": "stream",
     "text": [
      "4901057: Missing sa.nii.gz file\n"
     ]
    },
    {
     "name": "stderr",
     "output_type": "stream",
     "text": [
      " 77%|███████▋  | 46397/59975 [03:59<01:05, 205.92it/s]"
     ]
    },
    {
     "name": "stdout",
     "output_type": "stream",
     "text": [
      "4910199: Missing la_2ch_ED.nii.gz file\n",
      "4910199: Missing la_2ch.nii.gz file\n",
      "4910199: Missing seg_la_2ch_ES.nii.gz file\n",
      "4910199: Missing la_2ch_ES.nii.gz file\n",
      "4910199: Missing sa.nii.gz file\n",
      "4910199: Missing seg_la_2ch_ED.nii.gz file\n",
      "4910199: Missing seg_la_2ch.nii.gz file\n",
      "4910955: Missing sa.nii.gz file\n"
     ]
    },
    {
     "name": "stderr",
     "output_type": "stream",
     "text": [
      " 78%|███████▊  | 46507/59975 [04:00<01:06, 203.86it/s]"
     ]
    },
    {
     "name": "stdout",
     "output_type": "stream",
     "text": [
      "4920238: Missing sa.nii.gz file\n"
     ]
    },
    {
     "name": "stderr",
     "output_type": "stream",
     "text": [
      " 78%|███████▊  | 46571/59975 [04:00<01:09, 193.74it/s]"
     ]
    },
    {
     "name": "stdout",
     "output_type": "stream",
     "text": [
      "4925999: Missing sa.nii.gz file\n",
      "4928419: Missing sa.nii.gz file\n"
     ]
    },
    {
     "name": "stderr",
     "output_type": "stream",
     "text": [
      " 78%|███████▊  | 46966/59975 [04:02<01:05, 198.00it/s]"
     ]
    },
    {
     "name": "stdout",
     "output_type": "stream",
     "text": [
      "4955514: Missing sa.nii.gz file\n"
     ]
    },
    {
     "name": "stderr",
     "output_type": "stream",
     "text": [
      " 78%|███████▊  | 47008/59975 [04:02<01:04, 199.93it/s]"
     ]
    },
    {
     "name": "stdout",
     "output_type": "stream",
     "text": [
      "4959268: Missing la_2ch_ED.nii.gz file\n",
      "4959268: Missing la_2ch.nii.gz file\n",
      "4959268: Missing seg_la_2ch_ES.nii.gz file\n",
      "4959268: Missing la_2ch_ES.nii.gz file\n",
      "4959268: Missing sa.nii.gz file\n",
      "4959268: Missing seg_la_2ch_ED.nii.gz file\n",
      "4959268: Missing seg_la_2ch.nii.gz file\n"
     ]
    },
    {
     "name": "stderr",
     "output_type": "stream",
     "text": [
      " 79%|███████▉  | 47251/59975 [04:04<01:09, 183.27it/s]"
     ]
    },
    {
     "name": "stdout",
     "output_type": "stream",
     "text": [
      "4977793: Missing sa.nii.gz file\n"
     ]
    },
    {
     "name": "stderr",
     "output_type": "stream",
     "text": [
      " 79%|███████▉  | 47530/59975 [04:05<01:11, 173.90it/s]"
     ]
    },
    {
     "name": "stdout",
     "output_type": "stream",
     "text": [
      "4998730: Missing sa.nii.gz file\n"
     ]
    },
    {
     "name": "stderr",
     "output_type": "stream",
     "text": [
      " 80%|███████▉  | 47690/59975 [04:06<01:03, 194.73it/s]"
     ]
    },
    {
     "name": "stdout",
     "output_type": "stream",
     "text": [
      "5013225: Missing sa.nii.gz file\n"
     ]
    },
    {
     "name": "stderr",
     "output_type": "stream",
     "text": [
      " 81%|████████  | 48357/59975 [04:09<00:58, 199.14it/s]"
     ]
    },
    {
     "name": "stdout",
     "output_type": "stream",
     "text": [
      "5068843: Missing sa.nii.gz file\n",
      "5070525: Missing sa.nii.gz file\n"
     ]
    },
    {
     "name": "stderr",
     "output_type": "stream",
     "text": [
      " 81%|████████  | 48419/59975 [04:10<00:57, 199.58it/s]"
     ]
    },
    {
     "name": "stdout",
     "output_type": "stream",
     "text": [
      "5072462: Missing sa.nii.gz file\n"
     ]
    },
    {
     "name": "stderr",
     "output_type": "stream",
     "text": [
      " 81%|████████▏ | 48757/59975 [04:11<00:54, 205.90it/s]"
     ]
    },
    {
     "name": "stdout",
     "output_type": "stream",
     "text": [
      "5101919: Missing sa.nii.gz file\n"
     ]
    },
    {
     "name": "stderr",
     "output_type": "stream",
     "text": [
      " 82%|████████▏ | 49186/59975 [04:13<00:49, 219.90it/s]"
     ]
    },
    {
     "name": "stdout",
     "output_type": "stream",
     "text": [
      "5137607: Missing sa.nii.gz file\n"
     ]
    },
    {
     "name": "stderr",
     "output_type": "stream",
     "text": [
      " 82%|████████▏ | 49299/59975 [04:14<00:49, 217.70it/s]"
     ]
    },
    {
     "name": "stdout",
     "output_type": "stream",
     "text": [
      "5145965: Missing sa.nii.gz file\n"
     ]
    },
    {
     "name": "stderr",
     "output_type": "stream",
     "text": [
      " 82%|████████▏ | 49458/59975 [04:15<00:50, 206.25it/s]"
     ]
    },
    {
     "name": "stdout",
     "output_type": "stream",
     "text": [
      "5161818: Missing sa.nii.gz file\n"
     ]
    },
    {
     "name": "stderr",
     "output_type": "stream",
     "text": [
      " 83%|████████▎ | 49816/59975 [04:17<01:07, 150.46it/s]"
     ]
    },
    {
     "name": "stdout",
     "output_type": "stream",
     "text": [
      "5192043: Missing sa.nii.gz file\n"
     ]
    },
    {
     "name": "stderr",
     "output_type": "stream",
     "text": [
      " 84%|████████▍ | 50331/59975 [04:21<01:02, 155.10it/s]"
     ]
    },
    {
     "name": "stdout",
     "output_type": "stream",
     "text": [
      "5235040: Missing sa.nii.gz file\n"
     ]
    },
    {
     "name": "stderr",
     "output_type": "stream",
     "text": [
      " 85%|████████▍ | 50868/59975 [04:24<01:08, 132.95it/s]"
     ]
    },
    {
     "name": "stdout",
     "output_type": "stream",
     "text": [
      "5279755: Missing sa.nii.gz file\n",
      "5281293: Missing sa.nii.gz file\n"
     ]
    },
    {
     "name": "stderr",
     "output_type": "stream",
     "text": [
      " 85%|████████▍ | 50966/59975 [04:25<01:07, 134.38it/s]"
     ]
    },
    {
     "name": "stdout",
     "output_type": "stream",
     "text": [
      "5286532: Missing sa.nii.gz file\n",
      "5286554: Missing sa.nii.gz file\n"
     ]
    },
    {
     "name": "stderr",
     "output_type": "stream",
     "text": [
      " 86%|████████▌ | 51476/59975 [04:29<01:00, 139.84it/s]"
     ]
    },
    {
     "name": "stdout",
     "output_type": "stream",
     "text": [
      "5327899: Missing sa.nii.gz file\n"
     ]
    },
    {
     "name": "stderr",
     "output_type": "stream",
     "text": [
      " 86%|████████▌ | 51539/59975 [04:29<00:57, 147.62it/s]"
     ]
    },
    {
     "name": "stdout",
     "output_type": "stream",
     "text": [
      "5333437: Missing sa.nii.gz file\n"
     ]
    },
    {
     "name": "stderr",
     "output_type": "stream",
     "text": [
      " 86%|████████▌ | 51615/59975 [04:30<01:07, 123.90it/s]"
     ]
    },
    {
     "name": "stdout",
     "output_type": "stream",
     "text": [
      "5340618: Missing sa.nii.gz file\n"
     ]
    },
    {
     "name": "stderr",
     "output_type": "stream",
     "text": [
      " 86%|████████▌ | 51682/59975 [04:30<01:10, 117.90it/s]"
     ]
    },
    {
     "name": "stdout",
     "output_type": "stream",
     "text": [
      "5345133: Missing sa.nii.gz file\n"
     ]
    },
    {
     "name": "stderr",
     "output_type": "stream",
     "text": [
      " 87%|████████▋ | 51888/59975 [04:32<00:57, 140.80it/s]"
     ]
    },
    {
     "name": "stdout",
     "output_type": "stream",
     "text": [
      "5360983: Missing sa.nii.gz file\n"
     ]
    },
    {
     "name": "stderr",
     "output_type": "stream",
     "text": [
      " 87%|████████▋ | 52443/59975 [04:36<00:59, 126.35it/s]"
     ]
    },
    {
     "name": "stdout",
     "output_type": "stream",
     "text": [
      "5409635: Missing sa.nii.gz file\n"
     ]
    },
    {
     "name": "stderr",
     "output_type": "stream",
     "text": [
      " 88%|████████▊ | 52574/59975 [04:37<00:53, 138.07it/s]"
     ]
    },
    {
     "name": "stdout",
     "output_type": "stream",
     "text": [
      "5419813: Missing sa.nii.gz file\n"
     ]
    },
    {
     "name": "stderr",
     "output_type": "stream",
     "text": [
      " 88%|████████▊ | 52824/59975 [04:39<00:49, 143.38it/s]"
     ]
    },
    {
     "name": "stdout",
     "output_type": "stream",
     "text": [
      "5440331: Missing sa.nii.gz file\n"
     ]
    },
    {
     "name": "stderr",
     "output_type": "stream",
     "text": [
      " 88%|████████▊ | 52918/59975 [04:40<00:50, 138.73it/s]"
     ]
    },
    {
     "name": "stdout",
     "output_type": "stream",
     "text": [
      "5447584: Missing sa.nii.gz file\n"
     ]
    },
    {
     "name": "stderr",
     "output_type": "stream",
     "text": [
      " 89%|████████▊ | 53091/59975 [04:41<00:54, 127.02it/s]"
     ]
    },
    {
     "name": "stdout",
     "output_type": "stream",
     "text": [
      "5460912: Missing sa.nii.gz file\n"
     ]
    },
    {
     "name": "stderr",
     "output_type": "stream",
     "text": [
      " 89%|████████▊ | 53136/59975 [04:42<00:49, 138.14it/s]"
     ]
    },
    {
     "name": "stdout",
     "output_type": "stream",
     "text": [
      "5464345: Missing sa.nii.gz file\n"
     ]
    },
    {
     "name": "stderr",
     "output_type": "stream",
     "text": [
      " 89%|████████▉ | 53530/59975 [04:44<00:47, 134.76it/s]"
     ]
    },
    {
     "name": "stdout",
     "output_type": "stream",
     "text": [
      "5494929: Missing sa.nii.gz file\n"
     ]
    },
    {
     "name": "stderr",
     "output_type": "stream",
     "text": [
      " 89%|████████▉ | 53559/59975 [04:45<00:46, 136.74it/s]"
     ]
    },
    {
     "name": "stdout",
     "output_type": "stream",
     "text": [
      "5497804: Missing sa.nii.gz file\n"
     ]
    },
    {
     "name": "stderr",
     "output_type": "stream",
     "text": [
      " 90%|█████████ | 53982/59975 [04:48<00:42, 141.40it/s]"
     ]
    },
    {
     "name": "stdout",
     "output_type": "stream",
     "text": [
      "5534424: Missing sa.nii.gz file\n"
     ]
    },
    {
     "name": "stderr",
     "output_type": "stream",
     "text": [
      " 91%|█████████ | 54544/59975 [04:52<00:47, 113.80it/s]"
     ]
    },
    {
     "name": "stdout",
     "output_type": "stream",
     "text": [
      "5579484: Missing sa.nii.gz file\n"
     ]
    },
    {
     "name": "stderr",
     "output_type": "stream",
     "text": [
      " 91%|█████████▏| 54798/59975 [04:54<00:39, 131.43it/s]"
     ]
    },
    {
     "name": "stdout",
     "output_type": "stream",
     "text": [
      "5601025: Missing sa.nii.gz file\n",
      "5601485: Missing sa.nii.gz file\n"
     ]
    },
    {
     "name": "stderr",
     "output_type": "stream",
     "text": [
      " 92%|█████████▏| 54908/59975 [04:55<00:34, 145.52it/s]"
     ]
    },
    {
     "name": "stdout",
     "output_type": "stream",
     "text": [
      "5608829: Missing sa.nii.gz file\n"
     ]
    },
    {
     "name": "stderr",
     "output_type": "stream",
     "text": [
      " 92%|█████████▏| 55131/59975 [04:57<00:37, 128.06it/s]"
     ]
    },
    {
     "name": "stdout",
     "output_type": "stream",
     "text": [
      "5626883: Missing sa.nii.gz file\n"
     ]
    },
    {
     "name": "stderr",
     "output_type": "stream",
     "text": [
      " 92%|█████████▏| 55367/59975 [04:58<00:36, 126.34it/s]"
     ]
    },
    {
     "name": "stdout",
     "output_type": "stream",
     "text": [
      "5649979: Missing sa.nii.gz file\n"
     ]
    },
    {
     "name": "stderr",
     "output_type": "stream",
     "text": [
      " 93%|█████████▎| 55785/59975 [05:02<00:36, 114.83it/s]"
     ]
    },
    {
     "name": "stdout",
     "output_type": "stream",
     "text": [
      "5686129: Missing sa.nii.gz file\n"
     ]
    },
    {
     "name": "stderr",
     "output_type": "stream",
     "text": [
      " 93%|█████████▎| 55820/59975 [05:02<00:39, 104.51it/s]"
     ]
    },
    {
     "name": "stdout",
     "output_type": "stream",
     "text": [
      "5688703: Missing sa.nii.gz file\n"
     ]
    },
    {
     "name": "stderr",
     "output_type": "stream",
     "text": [
      " 93%|█████████▎| 55892/59975 [05:03<00:46, 87.01it/s] "
     ]
    },
    {
     "name": "stdout",
     "output_type": "stream",
     "text": [
      "5696149: Missing sa.nii.gz file\n"
     ]
    },
    {
     "name": "stderr",
     "output_type": "stream",
     "text": [
      " 93%|█████████▎| 56004/59975 [05:04<00:32, 123.09it/s]"
     ]
    },
    {
     "name": "stdout",
     "output_type": "stream",
     "text": [
      "5703790: Missing sa.nii.gz file\n"
     ]
    },
    {
     "name": "stderr",
     "output_type": "stream",
     "text": [
      " 94%|█████████▍| 56369/59975 [05:06<00:25, 139.91it/s]"
     ]
    },
    {
     "name": "stdout",
     "output_type": "stream",
     "text": [
      "5732674: Missing sa.nii.gz file\n",
      "5733410: Missing sa.nii.gz file\n"
     ]
    },
    {
     "name": "stderr",
     "output_type": "stream",
     "text": [
      " 94%|█████████▍| 56562/59975 [05:08<00:29, 117.33it/s]"
     ]
    },
    {
     "name": "stdout",
     "output_type": "stream",
     "text": [
      "5746590: Missing sa.nii.gz file\n"
     ]
    },
    {
     "name": "stderr",
     "output_type": "stream",
     "text": [
      " 95%|█████████▍| 56941/59975 [05:11<00:19, 152.59it/s]"
     ]
    },
    {
     "name": "stdout",
     "output_type": "stream",
     "text": [
      "5779397: Missing sa.nii.gz file\n"
     ]
    },
    {
     "name": "stderr",
     "output_type": "stream",
     "text": [
      " 95%|█████████▍| 56973/59975 [05:11<00:24, 124.78it/s]"
     ]
    },
    {
     "name": "stdout",
     "output_type": "stream",
     "text": [
      "5781932: Missing sa.nii.gz file\n"
     ]
    },
    {
     "name": "stderr",
     "output_type": "stream",
     "text": [
      " 96%|█████████▌| 57332/59975 [05:14<00:20, 128.86it/s]"
     ]
    },
    {
     "name": "stdout",
     "output_type": "stream",
     "text": [
      "5811259: Missing sa.nii.gz file\n"
     ]
    },
    {
     "name": "stderr",
     "output_type": "stream",
     "text": [
      " 96%|█████████▌| 57620/59975 [05:16<00:14, 158.41it/s]"
     ]
    },
    {
     "name": "stdout",
     "output_type": "stream",
     "text": [
      "5836073: Missing sa.nii.gz file\n"
     ]
    },
    {
     "name": "stderr",
     "output_type": "stream",
     "text": [
      " 97%|█████████▋| 57915/59975 [05:18<00:13, 150.26it/s]"
     ]
    },
    {
     "name": "stdout",
     "output_type": "stream",
     "text": [
      "5861618: Missing la_2ch_ED.nii.gz file\n",
      "5861618: Missing la_2ch.nii.gz file\n",
      "5861618: Missing seg_la_2ch_ES.nii.gz file\n",
      "5861618: Missing la_2ch_ES.nii.gz file\n",
      "5861618: Missing sa.nii.gz file\n",
      "5861618: Missing seg_la_2ch_ED.nii.gz file\n",
      "5861618: Missing seg_la_2ch.nii.gz file\n"
     ]
    },
    {
     "name": "stderr",
     "output_type": "stream",
     "text": [
      " 97%|█████████▋| 57999/59975 [05:18<00:14, 132.39it/s]"
     ]
    },
    {
     "name": "stdout",
     "output_type": "stream",
     "text": [
      "5870453: Missing sa.nii.gz file\n"
     ]
    },
    {
     "name": "stderr",
     "output_type": "stream",
     "text": [
      " 97%|█████████▋| 58086/59975 [05:20<00:20, 90.20it/s] "
     ]
    },
    {
     "name": "stdout",
     "output_type": "stream",
     "text": [
      "5875181: Missing sa.nii.gz file\n"
     ]
    },
    {
     "name": "stderr",
     "output_type": "stream",
     "text": [
      " 97%|█████████▋| 58250/59975 [05:23<00:15, 109.41it/s]"
     ]
    },
    {
     "name": "stdout",
     "output_type": "stream",
     "text": [
      "5887912: Missing sa.nii.gz file\n",
      "5888187: Missing sa.nii.gz file\n"
     ]
    },
    {
     "name": "stderr",
     "output_type": "stream",
     "text": [
      " 97%|█████████▋| 58411/59975 [05:24<00:11, 141.87it/s]"
     ]
    },
    {
     "name": "stdout",
     "output_type": "stream",
     "text": [
      "5897420: Missing sa.nii.gz file\n"
     ]
    },
    {
     "name": "stderr",
     "output_type": "stream",
     "text": [
      " 98%|█████████▊| 58751/59975 [05:27<00:09, 126.44it/s]"
     ]
    },
    {
     "name": "stdout",
     "output_type": "stream",
     "text": [
      "5923820: Missing sa.nii.gz file\n"
     ]
    },
    {
     "name": "stderr",
     "output_type": "stream",
     "text": [
      " 98%|█████████▊| 59015/59975 [05:29<00:06, 148.41it/s]"
     ]
    },
    {
     "name": "stdout",
     "output_type": "stream",
     "text": [
      "5944814: Missing la_2ch_ED.nii.gz file\n",
      "5944814: Missing la_2ch.nii.gz file\n",
      "5944814: Missing seg_la_2ch_ES.nii.gz file\n",
      "5944814: Missing la_2ch_ES.nii.gz file\n",
      "5944814: Missing seg_la_2ch_ED.nii.gz file\n",
      "5944814: Missing seg_la_2ch.nii.gz file\n"
     ]
    },
    {
     "name": "stderr",
     "output_type": "stream",
     "text": [
      " 98%|█████████▊| 59046/59975 [05:29<00:06, 148.64it/s]"
     ]
    },
    {
     "name": "stdout",
     "output_type": "stream",
     "text": [
      "5948100: Missing sa.nii.gz file\n"
     ]
    },
    {
     "name": "stderr",
     "output_type": "stream",
     "text": [
      " 99%|█████████▊| 59081/59975 [05:29<00:05, 158.50it/s]"
     ]
    },
    {
     "name": "stdout",
     "output_type": "stream",
     "text": [
      "5951986: Missing la_2ch_ED.nii.gz file\n",
      "5951986: Missing la_2ch.nii.gz file\n",
      "5951986: Missing seg_la_2ch_ES.nii.gz file\n",
      "5951986: Missing la_2ch_ES.nii.gz file\n",
      "5951986: Missing seg_la_2ch_ED.nii.gz file\n",
      "5951986: Missing seg_la_2ch.nii.gz file\n",
      "5954839: Missing sa.nii.gz file\n"
     ]
    },
    {
     "name": "stderr",
     "output_type": "stream",
     "text": [
      " 99%|█████████▉| 59242/59975 [05:30<00:05, 142.33it/s]"
     ]
    },
    {
     "name": "stdout",
     "output_type": "stream",
     "text": [
      "5964974: Missing sa.nii.gz file\n"
     ]
    },
    {
     "name": "stderr",
     "output_type": "stream",
     "text": [
      " 99%|█████████▉| 59416/59975 [05:32<00:04, 132.05it/s]"
     ]
    },
    {
     "name": "stdout",
     "output_type": "stream",
     "text": [
      "5978860: Missing sa.nii.gz file\n"
     ]
    },
    {
     "name": "stderr",
     "output_type": "stream",
     "text": [
      " 99%|█████████▉| 59474/59975 [05:32<00:04, 100.46it/s]"
     ]
    },
    {
     "name": "stdout",
     "output_type": "stream",
     "text": [
      "5982856: Missing la_2ch_ED.nii.gz file\n",
      "5982856: Missing la_2ch.nii.gz file\n",
      "5982856: Missing seg_la_2ch_ES.nii.gz file\n",
      "5982856: Missing la_2ch_ES.nii.gz file\n",
      "5982856: Missing seg_la_2ch_ED.nii.gz file\n",
      "5982856: Missing seg_la_2ch.nii.gz file\n"
     ]
    },
    {
     "name": "stderr",
     "output_type": "stream",
     "text": [
      "100%|█████████▉| 59781/59975 [05:35<00:01, 144.87it/s]"
     ]
    },
    {
     "name": "stdout",
     "output_type": "stream",
     "text": [
      "6007405: Missing sa.nii.gz file\n"
     ]
    },
    {
     "name": "stderr",
     "output_type": "stream",
     "text": [
      "100%|██████████| 59975/59975 [05:36<00:00, 178.16it/s]\n"
     ]
    }
   ],
   "source": [
    "# visit 1\n",
    "failed_subjects = []\n",
    "for subject in tqdm(os.listdir(config.data_visit1_dir)):\n",
    "    subject_dir = os.path.join(config.data_visit1_dir, subject)\n",
    "    flag = False\n",
    "    for file in files_to_check:\n",
    "        if not os.path.exists(os.path.join(subject_dir, file)):\n",
    "            print(f\"{subject}: Missing {file} file\")\n",
    "            flag = True\n",
    "    if flag:\n",
    "        failed_subjects.append(subject)\n",
    "        shutil.move(subject_dir, os.path.join(config.data_failed_visit1_dir, subject))"
   ]
  },
  {
   "cell_type": "code",
   "execution_count": 24,
   "metadata": {},
   "outputs": [
    {
     "name": "stdout",
     "output_type": "stream",
     "text": [
      "258\n",
      "['1080362', '1104792', '1108877', '1125392', '1126949', '1150046', '1161130', '1204841', '1214334', '1237896', '1255037', '1255301', '1279401', '1290257', '1297718', '1300521', '1305250', '1335274', '1341013', '1346221', '1369464', '1369562', '1376211', '1383050', '1386959', '1417461', '1449148', '1505926', '1508229', '1512152', '1566567', '1579136', '1601629', '1605440', '1610956', '1626374', '1635363', '1636629', '1670625', '1693530', '1739778', '1756067', '1767712', '1769053', '1803584', '1805524', '1821938', '1827109', '1830779', '1857477', '1911935', '1924334', '1933603', '1990320', '2021327', '2050292', '2081929', '2087652', '2100186', '2108065', '2114808', '2120103', '2124937', '2172087', '2208901', '2215039', '2232001', '2236368', '2272601', '2371795', '2389146', '2411282', '2415118', '2416724', '2443460', '2444929', '2465566', '2483329', '2542808', '2589354', '2594998', '2609714', '2614035', '2623809', '2625501', '2653352', '2665964', '2677527', '2678911', '2709066', '2769113', '2770477', '2774301', '2826385', '2866319', '2884305', '2908825', '2923366', '2975309', '3017152', '3040199', '3051240', '3053932', '3067647', '3094425', '3096593', '3103832', '3103953', '3103971', '3121057', '3163758', '3209283', '3209339', '3222642', '3222655', '3239879', '3257669', '3267291', '3288537', '3304808', '3325748', '3329119', '3330393', '3337461', '3375141', '3378755', '3399936', '3415069', '3416985', '3450012', '3472358', '3483707', '3536046', '3558862', '3596032', '3606203', '3606838', '3650871', '3652421', '3693362', '3708412', '3727028', '3732544', '3738522', '3847516', '3891250', '3910794', '3964797', '3967148', '3967806', '4005224', '4017161', '4025436', '4025720', '4046984', '4049974', '4091423', '4092387', '4130513', '4132427', '4136529', '4161248', '4173490', '4210061', '4338855', '4349598', '4388992', '4389593', '4399372', '4399620', '4440647', '4477034', '4484223', '4505273', '4507988', '4518590', '4519828', '4544128', '4544294', '4547635', '4589335', '4649712', '4685583', '4722749', '4763991', '4781822', '4799562', '4868575', '4901057', '4910199', '4910955', '4920238', '4925999', '4928419', '4955514', '4959268', '4977793', '4998730', '5013225', '5068843', '5070525', '5072462', '5101919', '5137607', '5145965', '5161818', '5192043', '5235040', '5279755', '5281293', '5286532', '5286554', '5327899', '5333437', '5340618', '5345133', '5360983', '5409635', '5419813', '5440331', '5447584', '5460912', '5464345', '5494929', '5497804', '5534424', '5579484', '5601025', '5601485', '5608829', '5626883', '5649979', '5686129', '5688703', '5696149', '5703790', '5732674', '5733410', '5746590', '5779397', '5781932', '5811259', '5836073', '5861618', '5870453', '5875181', '5887912', '5888187', '5897420', '5923820', '5944814', '5948100', '5951986', '5954839', '5964974', '5978860', '5982856', '6007405']\n"
     ]
    }
   ],
   "source": [
    "print(len(failed_subjects))\n",
    "print(failed_subjects)"
   ]
  },
  {
   "cell_type": "code",
   "execution_count": 21,
   "metadata": {},
   "outputs": [
    {
     "name": "stderr",
     "output_type": "stream",
     "text": [
      "  0%|          | 0/3789 [00:00<?, ?it/s]"
     ]
    },
    {
     "name": "stderr",
     "output_type": "stream",
     "text": [
      "100%|██████████| 3789/3789 [00:18<00:00, 200.24it/s]\n"
     ]
    }
   ],
   "source": [
    "# visit 2\n",
    "failed_subjects = []\n",
    "for subject in tqdm(os.listdir(config.data_visit2_dir)):\n",
    "    subject_dir = os.path.join(config.data_visit2_dir, subject)\n",
    "    flag = False\n",
    "    for file in files_to_check:\n",
    "        if not os.path.exists(os.path.join(subject_dir, file)):\n",
    "            print(f\"{subject}: Missing {file} file\")\n",
    "            flag = True\n",
    "    if flag:\n",
    "        failed_subjects.append(subject)\n",
    "        shutil.move(subject_dir, os.path.join(config.data_failed_visit2_dir, subject))"
   ]
  },
  {
   "cell_type": "code",
   "execution_count": 22,
   "metadata": {},
   "outputs": [
    {
     "name": "stdout",
     "output_type": "stream",
     "text": [
      "0\n",
      "[]\n"
     ]
    }
   ],
   "source": [
    "print(len(failed_subjects))\n",
    "print(failed_subjects)"
   ]
  },
  {
   "cell_type": "markdown",
   "metadata": {},
   "source": [
    "## Put Corrected folder back to `config.data_dir`"
   ]
  },
  {
   "cell_type": "code",
   "execution_count": 11,
   "metadata": {},
   "outputs": [
    {
     "name": "stderr",
     "output_type": "stream",
     "text": [
      "100%|██████████| 24/24 [00:00<00:00, 4908.49it/s]"
     ]
    },
    {
     "name": "stdout",
     "output_type": "stream",
     "text": [
      "1227773: Missing la_2ch_ED.nii.gz file\n",
      "1227773: Missing la_2ch.nii.gz file\n",
      "1227773: Missing la_4ch_ED.nii.gz file\n",
      "1227773: Missing la_4ch.nii.gz file\n",
      "1227773: Missing seg4_la_4ch_ED.nii.gz file\n",
      "1227773: Missing seg4_la_4ch.nii.gz file\n",
      "1227773: Missing seg_la_2ch_ES.nii.gz file\n",
      "1227773: Missing seg_la_4ch_ED.nii.gz file\n",
      "1227773: Missing seg_la_4ch.nii.gz file\n",
      "1227773: Missing la_2ch_ES.nii.gz file\n",
      "1227773: Missing la_4ch_ES.nii.gz file\n",
      "1227773: Missing sa.nii.gz file\n",
      "1227773: Missing seg4_la_4ch_ES.nii.gz file\n",
      "1227773: Missing seg_la_2ch_ED.nii.gz file\n",
      "1227773: Missing seg_la_2ch.nii.gz file\n",
      "1227773: Missing seg_la_4ch_ES.nii.gz file\n",
      "1331071: Missing la_2ch_ED.nii.gz file\n",
      "1331071: Missing la_2ch.nii.gz file\n",
      "1331071: Missing la_4ch_ED.nii.gz file\n",
      "1331071: Missing la_4ch.nii.gz file\n",
      "1331071: Missing seg4_la_4ch_ED.nii.gz file\n",
      "1331071: Missing seg4_la_4ch.nii.gz file\n",
      "1331071: Missing seg_la_2ch_ES.nii.gz file\n",
      "1331071: Missing seg_la_4ch_ED.nii.gz file\n",
      "1331071: Missing seg_la_4ch.nii.gz file\n",
      "1331071: Missing la_2ch_ES.nii.gz file\n",
      "1331071: Missing la_4ch_ES.nii.gz file\n",
      "1331071: Missing sa.nii.gz file\n",
      "1331071: Missing seg4_la_4ch_ES.nii.gz file\n",
      "1331071: Missing seg_la_2ch_ED.nii.gz file\n",
      "1331071: Missing seg_la_2ch.nii.gz file\n",
      "1331071: Missing seg_la_4ch_ES.nii.gz file\n",
      "1386131: Missing la_2ch_ED.nii.gz file\n",
      "1386131: Missing la_2ch.nii.gz file\n",
      "1386131: Missing la_4ch_ED.nii.gz file\n",
      "1386131: Missing la_4ch.nii.gz file\n",
      "1386131: Missing seg4_la_4ch_ED.nii.gz file\n",
      "1386131: Missing seg4_la_4ch.nii.gz file\n",
      "1386131: Missing seg_la_2ch_ES.nii.gz file\n",
      "1386131: Missing seg_la_4ch_ED.nii.gz file\n",
      "1386131: Missing seg_la_4ch.nii.gz file\n",
      "1386131: Missing la_2ch_ES.nii.gz file\n",
      "1386131: Missing la_4ch_ES.nii.gz file\n",
      "1386131: Missing sa.nii.gz file\n",
      "1386131: Missing seg4_la_4ch_ES.nii.gz file\n",
      "1386131: Missing seg_la_2ch_ED.nii.gz file\n",
      "1386131: Missing seg_la_2ch.nii.gz file\n",
      "1386131: Missing seg_la_4ch_ES.nii.gz file\n",
      "1511533: Missing la_2ch_ED.nii.gz file\n",
      "1511533: Missing la_2ch.nii.gz file\n",
      "1511533: Missing la_4ch_ED.nii.gz file\n",
      "1511533: Missing la_4ch.nii.gz file\n",
      "1511533: Missing seg4_la_4ch_ED.nii.gz file\n",
      "1511533: Missing seg4_la_4ch.nii.gz file\n",
      "1511533: Missing seg_la_2ch_ES.nii.gz file\n",
      "1511533: Missing seg_la_4ch_ED.nii.gz file\n",
      "1511533: Missing seg_la_4ch.nii.gz file\n",
      "1511533: Missing la_2ch_ES.nii.gz file\n",
      "1511533: Missing la_4ch_ES.nii.gz file\n",
      "1511533: Missing sa.nii.gz file\n",
      "1511533: Missing seg4_la_4ch_ES.nii.gz file\n",
      "1511533: Missing seg_la_2ch_ED.nii.gz file\n",
      "1511533: Missing seg_la_2ch.nii.gz file\n",
      "1511533: Missing seg_la_4ch_ES.nii.gz file\n",
      "2291435: Missing la_2ch_ED.nii.gz file\n",
      "2291435: Missing la_2ch.nii.gz file\n",
      "2291435: Missing la_4ch_ED.nii.gz file\n",
      "2291435: Missing la_4ch.nii.gz file\n",
      "2291435: Missing seg4_la_4ch_ED.nii.gz file\n",
      "2291435: Missing seg4_la_4ch.nii.gz file\n",
      "2291435: Missing seg_la_2ch_ES.nii.gz file\n",
      "2291435: Missing seg_la_4ch_ED.nii.gz file\n",
      "2291435: Missing seg_la_4ch.nii.gz file\n",
      "2291435: Missing la_2ch_ES.nii.gz file\n",
      "2291435: Missing la_4ch_ES.nii.gz file\n",
      "2291435: Missing sa.nii.gz file\n",
      "2291435: Missing seg4_la_4ch_ES.nii.gz file\n",
      "2291435: Missing seg_la_2ch_ED.nii.gz file\n",
      "2291435: Missing seg_la_2ch.nii.gz file\n",
      "2291435: Missing seg_la_4ch_ES.nii.gz file\n",
      "2368189: Missing la_2ch_ED.nii.gz file\n",
      "2368189: Missing la_2ch.nii.gz file\n",
      "2368189: Missing la_4ch_ED.nii.gz file\n",
      "2368189: Missing la_4ch.nii.gz file\n",
      "2368189: Missing seg4_la_4ch_ED.nii.gz file\n",
      "2368189: Missing seg4_la_4ch.nii.gz file\n",
      "2368189: Missing seg_la_2ch_ES.nii.gz file\n",
      "2368189: Missing seg_la_4ch_ED.nii.gz file\n",
      "2368189: Missing seg_la_4ch.nii.gz file\n",
      "2368189: Missing la_2ch_ES.nii.gz file\n",
      "2368189: Missing la_4ch_ES.nii.gz file\n",
      "2368189: Missing sa.nii.gz file\n",
      "2368189: Missing seg4_la_4ch_ES.nii.gz file\n",
      "2368189: Missing seg_la_2ch_ED.nii.gz file\n",
      "2368189: Missing seg_la_2ch.nii.gz file\n",
      "2368189: Missing seg_la_4ch_ES.nii.gz file\n",
      "3139148: Missing la_2ch_ED.nii.gz file\n",
      "3139148: Missing la_2ch.nii.gz file\n",
      "3139148: Missing la_4ch_ED.nii.gz file\n",
      "3139148: Missing la_4ch.nii.gz file\n",
      "3139148: Missing seg4_la_4ch_ED.nii.gz file\n",
      "3139148: Missing seg4_la_4ch.nii.gz file\n",
      "3139148: Missing seg_la_2ch_ES.nii.gz file\n",
      "3139148: Missing seg_la_4ch_ED.nii.gz file\n",
      "3139148: Missing seg_la_4ch.nii.gz file\n",
      "3139148: Missing la_2ch_ES.nii.gz file\n",
      "3139148: Missing la_4ch_ES.nii.gz file\n",
      "3139148: Missing sa.nii.gz file\n",
      "3139148: Missing seg4_la_4ch_ES.nii.gz file\n",
      "3139148: Missing seg_la_2ch_ED.nii.gz file\n",
      "3139148: Missing seg_la_2ch.nii.gz file\n",
      "3139148: Missing seg_la_4ch_ES.nii.gz file\n",
      "3193109: Missing la_2ch_ED.nii.gz file\n",
      "3193109: Missing la_2ch.nii.gz file\n",
      "3193109: Missing la_4ch_ED.nii.gz file\n",
      "3193109: Missing la_4ch.nii.gz file\n",
      "3193109: Missing seg4_la_4ch_ED.nii.gz file\n",
      "3193109: Missing seg4_la_4ch.nii.gz file\n",
      "3193109: Missing seg_la_2ch_ES.nii.gz file\n",
      "3193109: Missing seg_la_4ch_ED.nii.gz file\n",
      "3193109: Missing seg_la_4ch.nii.gz file\n",
      "3193109: Missing la_2ch_ES.nii.gz file\n",
      "3193109: Missing la_4ch_ES.nii.gz file\n",
      "3193109: Missing sa.nii.gz file\n",
      "3193109: Missing seg4_la_4ch_ES.nii.gz file\n",
      "3193109: Missing seg_la_2ch_ED.nii.gz file\n",
      "3193109: Missing seg_la_2ch.nii.gz file\n",
      "3193109: Missing seg_la_4ch_ES.nii.gz file\n",
      "3392188: Missing la_2ch_ED.nii.gz file\n",
      "3392188: Missing la_2ch.nii.gz file\n",
      "3392188: Missing la_4ch_ED.nii.gz file\n",
      "3392188: Missing la_4ch.nii.gz file\n",
      "3392188: Missing seg4_la_4ch_ED.nii.gz file\n",
      "3392188: Missing seg4_la_4ch.nii.gz file\n",
      "3392188: Missing seg_la_2ch_ES.nii.gz file\n",
      "3392188: Missing seg_la_4ch_ED.nii.gz file\n",
      "3392188: Missing seg_la_4ch.nii.gz file\n",
      "3392188: Missing la_2ch_ES.nii.gz file\n",
      "3392188: Missing la_4ch_ES.nii.gz file\n",
      "3392188: Missing sa.nii.gz file\n",
      "3392188: Missing seg4_la_4ch_ES.nii.gz file\n",
      "3392188: Missing seg_la_2ch_ED.nii.gz file\n",
      "3392188: Missing seg_la_2ch.nii.gz file\n",
      "3392188: Missing seg_la_4ch_ES.nii.gz file\n",
      "3398906: Missing la_2ch_ED.nii.gz file\n",
      "3398906: Missing la_2ch.nii.gz file\n",
      "3398906: Missing la_4ch_ED.nii.gz file\n",
      "3398906: Missing la_4ch.nii.gz file\n",
      "3398906: Missing seg4_la_4ch_ED.nii.gz file\n",
      "3398906: Missing seg4_la_4ch.nii.gz file\n",
      "3398906: Missing seg_la_2ch_ES.nii.gz file\n",
      "3398906: Missing seg_la_4ch_ED.nii.gz file\n",
      "3398906: Missing seg_la_4ch.nii.gz file\n",
      "3398906: Missing la_2ch_ES.nii.gz file\n",
      "3398906: Missing la_4ch_ES.nii.gz file\n",
      "3398906: Missing seg4_la_4ch_ES.nii.gz file\n",
      "3398906: Missing seg_la_2ch_ED.nii.gz file\n",
      "3398906: Missing seg_la_2ch.nii.gz file\n",
      "3398906: Missing seg_la_4ch_ES.nii.gz file\n",
      "3932229: Missing la_2ch_ED.nii.gz file\n",
      "3932229: Missing la_2ch.nii.gz file\n",
      "3932229: Missing la_4ch_ED.nii.gz file\n",
      "3932229: Missing la_4ch.nii.gz file\n",
      "3932229: Missing seg4_la_4ch_ED.nii.gz file\n",
      "3932229: Missing seg4_la_4ch.nii.gz file\n",
      "3932229: Missing seg_la_2ch_ES.nii.gz file\n",
      "3932229: Missing seg_la_4ch_ED.nii.gz file\n",
      "3932229: Missing seg_la_4ch.nii.gz file\n",
      "3932229: Missing la_2ch_ES.nii.gz file\n",
      "3932229: Missing la_4ch_ES.nii.gz file\n",
      "3932229: Missing seg4_la_4ch_ES.nii.gz file\n",
      "3932229: Missing seg_la_2ch_ED.nii.gz file\n",
      "3932229: Missing seg_la_2ch.nii.gz file\n",
      "3932229: Missing seg_la_4ch_ES.nii.gz file\n",
      "4370567: Missing la_2ch_ED.nii.gz file\n",
      "4370567: Missing la_2ch.nii.gz file\n",
      "4370567: Missing la_4ch_ED.nii.gz file\n",
      "4370567: Missing la_4ch.nii.gz file\n",
      "4370567: Missing seg4_la_4ch_ED.nii.gz file\n",
      "4370567: Missing seg4_la_4ch.nii.gz file\n",
      "4370567: Missing seg_la_2ch_ES.nii.gz file\n",
      "4370567: Missing seg_la_4ch_ED.nii.gz file\n",
      "4370567: Missing seg_la_4ch.nii.gz file\n",
      "4370567: Missing la_2ch_ES.nii.gz file\n",
      "4370567: Missing la_4ch_ES.nii.gz file\n",
      "4370567: Missing sa.nii.gz file\n",
      "4370567: Missing seg4_la_4ch_ES.nii.gz file\n",
      "4370567: Missing seg_la_2ch_ED.nii.gz file\n",
      "4370567: Missing seg_la_2ch.nii.gz file\n",
      "4370567: Missing seg_la_4ch_ES.nii.gz file\n",
      "4518679: Missing la_2ch_ED.nii.gz file\n",
      "4518679: Missing la_2ch.nii.gz file\n",
      "4518679: Missing la_4ch_ED.nii.gz file\n",
      "4518679: Missing la_4ch.nii.gz file\n",
      "4518679: Missing seg4_la_4ch_ED.nii.gz file\n",
      "4518679: Missing seg4_la_4ch.nii.gz file\n",
      "4518679: Missing seg_la_2ch_ES.nii.gz file\n",
      "4518679: Missing seg_la_4ch_ED.nii.gz file\n",
      "4518679: Missing seg_la_4ch.nii.gz file\n",
      "4518679: Missing la_2ch_ES.nii.gz file\n",
      "4518679: Missing la_4ch_ES.nii.gz file\n",
      "4518679: Missing sa.nii.gz file\n",
      "4518679: Missing seg4_la_4ch_ES.nii.gz file\n",
      "4518679: Missing seg_la_2ch_ED.nii.gz file\n",
      "4518679: Missing seg_la_2ch.nii.gz file\n",
      "4518679: Missing seg_la_4ch_ES.nii.gz file\n",
      "4543083: Missing la_2ch_ED.nii.gz file\n",
      "4543083: Missing la_2ch.nii.gz file\n",
      "4543083: Missing la_4ch_ED.nii.gz file\n",
      "4543083: Missing la_4ch.nii.gz file\n",
      "4543083: Missing seg4_la_4ch_ED.nii.gz file\n",
      "4543083: Missing seg4_la_4ch.nii.gz file\n",
      "4543083: Missing seg_la_2ch_ES.nii.gz file\n",
      "4543083: Missing seg_la_4ch_ED.nii.gz file\n",
      "4543083: Missing seg_la_4ch.nii.gz file\n",
      "4543083: Missing la_2ch_ES.nii.gz file\n",
      "4543083: Missing la_4ch_ES.nii.gz file\n",
      "4543083: Missing seg4_la_4ch_ES.nii.gz file\n",
      "4543083: Missing seg_la_2ch_ED.nii.gz file\n",
      "4543083: Missing seg_la_2ch.nii.gz file\n",
      "4543083: Missing seg_la_4ch_ES.nii.gz file\n",
      "4822384: Missing la_2ch_ED.nii.gz file\n",
      "4822384: Missing la_2ch.nii.gz file\n",
      "4822384: Missing la_4ch_ED.nii.gz file\n",
      "4822384: Missing la_4ch.nii.gz file\n",
      "4822384: Missing seg4_la_4ch_ED.nii.gz file\n",
      "4822384: Missing seg4_la_4ch.nii.gz file\n",
      "4822384: Missing seg_la_2ch_ES.nii.gz file\n",
      "4822384: Missing seg_la_4ch_ED.nii.gz file\n",
      "4822384: Missing seg_la_4ch.nii.gz file\n",
      "4822384: Missing la_2ch_ES.nii.gz file\n",
      "4822384: Missing la_4ch_ES.nii.gz file\n",
      "4822384: Missing sa.nii.gz file\n",
      "4822384: Missing seg4_la_4ch_ES.nii.gz file\n",
      "4822384: Missing seg_la_2ch_ED.nii.gz file\n",
      "4822384: Missing seg_la_2ch.nii.gz file\n",
      "4822384: Missing seg_la_4ch_ES.nii.gz file\n",
      "4886010: Missing la_2ch_ED.nii.gz file\n",
      "4886010: Missing la_2ch.nii.gz file\n",
      "4886010: Missing la_4ch_ED.nii.gz file\n",
      "4886010: Missing la_4ch.nii.gz file\n",
      "4886010: Missing seg4_la_4ch_ED.nii.gz file\n",
      "4886010: Missing seg4_la_4ch.nii.gz file\n",
      "4886010: Missing seg_la_2ch_ES.nii.gz file\n",
      "4886010: Missing seg_la_4ch_ED.nii.gz file\n",
      "4886010: Missing seg_la_4ch.nii.gz file\n",
      "4886010: Missing la_2ch_ES.nii.gz file\n",
      "4886010: Missing la_4ch_ES.nii.gz file\n",
      "4886010: Missing sa.nii.gz file\n",
      "4886010: Missing seg4_la_4ch_ES.nii.gz file\n",
      "4886010: Missing seg_la_2ch_ED.nii.gz file\n",
      "4886010: Missing seg_la_2ch.nii.gz file\n",
      "4886010: Missing seg_la_4ch_ES.nii.gz file\n",
      "4991807: Missing la_2ch_ED.nii.gz file\n",
      "4991807: Missing la_2ch.nii.gz file\n",
      "4991807: Missing la_4ch_ED.nii.gz file\n",
      "4991807: Missing la_4ch.nii.gz file\n",
      "4991807: Missing seg4_la_4ch_ED.nii.gz file\n",
      "4991807: Missing seg4_la_4ch.nii.gz file\n",
      "4991807: Missing seg_la_2ch_ES.nii.gz file\n",
      "4991807: Missing seg_la_4ch_ED.nii.gz file\n",
      "4991807: Missing seg_la_4ch.nii.gz file\n",
      "4991807: Missing la_2ch_ES.nii.gz file\n",
      "4991807: Missing la_4ch_ES.nii.gz file\n",
      "4991807: Missing sa.nii.gz file\n",
      "4991807: Missing seg4_la_4ch_ES.nii.gz file\n",
      "4991807: Missing seg_la_2ch_ED.nii.gz file\n",
      "4991807: Missing seg_la_2ch.nii.gz file\n",
      "4991807: Missing seg_la_4ch_ES.nii.gz file\n",
      "5114312: Missing la_2ch_ED.nii.gz file\n",
      "5114312: Missing la_2ch.nii.gz file\n",
      "5114312: Missing la_4ch_ED.nii.gz file\n",
      "5114312: Missing la_4ch.nii.gz file\n",
      "5114312: Missing seg4_la_4ch_ED.nii.gz file\n",
      "5114312: Missing seg4_la_4ch.nii.gz file\n",
      "5114312: Missing seg_la_2ch_ES.nii.gz file\n",
      "5114312: Missing seg_la_4ch_ED.nii.gz file\n",
      "5114312: Missing seg_la_4ch.nii.gz file\n",
      "5114312: Missing la_2ch_ES.nii.gz file\n",
      "5114312: Missing la_4ch_ES.nii.gz file\n",
      "5114312: Missing sa.nii.gz file\n",
      "5114312: Missing seg4_la_4ch_ES.nii.gz file\n",
      "5114312: Missing seg_la_2ch_ED.nii.gz file\n",
      "5114312: Missing seg_la_2ch.nii.gz file\n",
      "5114312: Missing seg_la_4ch_ES.nii.gz file\n",
      "5151342: Missing la_2ch_ED.nii.gz file\n",
      "5151342: Missing la_2ch.nii.gz file\n",
      "5151342: Missing la_4ch_ED.nii.gz file\n",
      "5151342: Missing la_4ch.nii.gz file\n",
      "5151342: Missing seg4_la_4ch_ED.nii.gz file\n",
      "5151342: Missing seg4_la_4ch.nii.gz file\n",
      "5151342: Missing seg_la_2ch_ES.nii.gz file\n",
      "5151342: Missing seg_la_4ch_ED.nii.gz file\n",
      "5151342: Missing seg_la_4ch.nii.gz file\n",
      "5151342: Missing la_2ch_ES.nii.gz file\n",
      "5151342: Missing la_3ch.nii.gz file\n",
      "5151342: Missing la_4ch_ES.nii.gz file\n",
      "5151342: Missing sa.nii.gz file\n",
      "5151342: Missing seg4_la_4ch_ES.nii.gz file\n",
      "5151342: Missing seg_la_2ch_ED.nii.gz file\n",
      "5151342: Missing seg_la_2ch.nii.gz file\n",
      "5151342: Missing seg_la_4ch_ES.nii.gz file\n",
      "5214767: Missing la_2ch_ED.nii.gz file\n",
      "5214767: Missing la_2ch.nii.gz file\n",
      "5214767: Missing la_4ch_ED.nii.gz file\n",
      "5214767: Missing la_4ch.nii.gz file\n",
      "5214767: Missing seg4_la_4ch_ED.nii.gz file\n",
      "5214767: Missing seg4_la_4ch.nii.gz file\n",
      "5214767: Missing seg_la_2ch_ES.nii.gz file\n",
      "5214767: Missing seg_la_4ch_ED.nii.gz file\n",
      "5214767: Missing seg_la_4ch.nii.gz file\n",
      "5214767: Missing la_2ch_ES.nii.gz file\n",
      "5214767: Missing la_4ch_ES.nii.gz file\n",
      "5214767: Missing seg4_la_4ch_ES.nii.gz file\n",
      "5214767: Missing seg_la_2ch_ED.nii.gz file\n",
      "5214767: Missing seg_la_2ch.nii.gz file\n",
      "5214767: Missing seg_la_4ch_ES.nii.gz file\n",
      "5240193: Missing la_2ch_ED.nii.gz file\n",
      "5240193: Missing la_2ch.nii.gz file\n",
      "5240193: Missing la_4ch_ED.nii.gz file\n",
      "5240193: Missing la_4ch.nii.gz file\n",
      "5240193: Missing seg4_la_4ch_ED.nii.gz file\n",
      "5240193: Missing seg4_la_4ch.nii.gz file\n",
      "5240193: Missing seg_la_2ch_ES.nii.gz file\n",
      "5240193: Missing seg_la_4ch_ED.nii.gz file\n",
      "5240193: Missing seg_la_4ch.nii.gz file\n",
      "5240193: Missing la_2ch_ES.nii.gz file\n",
      "5240193: Missing la_3ch.nii.gz file\n",
      "5240193: Missing la_4ch_ES.nii.gz file\n",
      "5240193: Missing sa.nii.gz file\n",
      "5240193: Missing seg4_la_4ch_ES.nii.gz file\n",
      "5240193: Missing seg_la_2ch_ED.nii.gz file\n",
      "5240193: Missing seg_la_2ch.nii.gz file\n",
      "5240193: Missing seg_la_4ch_ES.nii.gz file\n",
      "5444718: Missing la_2ch_ED.nii.gz file\n",
      "5444718: Missing la_2ch.nii.gz file\n",
      "5444718: Missing la_4ch_ED.nii.gz file\n",
      "5444718: Missing la_4ch.nii.gz file\n",
      "5444718: Missing seg4_la_4ch_ED.nii.gz file\n",
      "5444718: Missing seg4_la_4ch.nii.gz file\n",
      "5444718: Missing seg_la_2ch_ES.nii.gz file\n",
      "5444718: Missing seg_la_4ch_ED.nii.gz file\n",
      "5444718: Missing seg_la_4ch.nii.gz file\n",
      "5444718: Missing la_2ch_ES.nii.gz file\n",
      "5444718: Missing la_4ch_ES.nii.gz file\n",
      "5444718: Missing seg4_la_4ch_ES.nii.gz file\n",
      "5444718: Missing seg_la_2ch_ED.nii.gz file\n",
      "5444718: Missing seg_la_2ch.nii.gz file\n",
      "5444718: Missing seg_la_4ch_ES.nii.gz file\n",
      "5614524: Missing la_2ch_ED.nii.gz file\n",
      "5614524: Missing la_2ch.nii.gz file\n",
      "5614524: Missing la_4ch_ED.nii.gz file\n",
      "5614524: Missing la_4ch.nii.gz file\n",
      "5614524: Missing seg4_la_4ch_ED.nii.gz file\n",
      "5614524: Missing seg4_la_4ch.nii.gz file\n",
      "5614524: Missing seg_la_2ch_ES.nii.gz file\n",
      "5614524: Missing seg_la_4ch_ED.nii.gz file\n",
      "5614524: Missing seg_la_4ch.nii.gz file\n",
      "5614524: Missing la_2ch_ES.nii.gz file\n",
      "5614524: Missing la_4ch_ES.nii.gz file\n",
      "5614524: Missing sa.nii.gz file\n",
      "5614524: Missing seg4_la_4ch_ES.nii.gz file\n",
      "5614524: Missing seg_la_2ch_ED.nii.gz file\n",
      "5614524: Missing seg_la_2ch.nii.gz file\n",
      "5614524: Missing seg_la_4ch_ES.nii.gz file\n",
      "5878796: Missing la_2ch_ED.nii.gz file\n",
      "5878796: Missing la_2ch.nii.gz file\n",
      "5878796: Missing la_4ch_ED.nii.gz file\n",
      "5878796: Missing la_4ch.nii.gz file\n",
      "5878796: Missing seg4_la_4ch_ED.nii.gz file\n",
      "5878796: Missing seg4_la_4ch.nii.gz file\n",
      "5878796: Missing seg_la_2ch_ES.nii.gz file\n",
      "5878796: Missing seg_la_4ch_ED.nii.gz file\n",
      "5878796: Missing seg_la_4ch.nii.gz file\n",
      "5878796: Missing la_2ch_ES.nii.gz file\n",
      "5878796: Missing la_4ch_ES.nii.gz file\n",
      "5878796: Missing sa.nii.gz file\n",
      "5878796: Missing seg4_la_4ch_ES.nii.gz file\n",
      "5878796: Missing seg_la_2ch_ED.nii.gz file\n",
      "5878796: Missing seg_la_2ch.nii.gz file\n",
      "5878796: Missing seg_la_4ch_ES.nii.gz file\n"
     ]
    },
    {
     "name": "stderr",
     "output_type": "stream",
     "text": [
      "\n"
     ]
    }
   ],
   "source": [
    "# visit 1\n",
    "failed_subjects = []\n",
    "for subject in tqdm(os.listdir(config.data_failed_visit1_dir)):\n",
    "    subject_dir = os.path.join(config.data_failed_visit1_dir, subject)\n",
    "    flag = False\n",
    "    for file in files_to_check:\n",
    "        if not os.path.exists(os.path.join(subject_dir, file)):\n",
    "            print(f\"{subject}: Missing {file} file\")\n",
    "            flag = True\n",
    "    if not flag:\n",
    "        shutil.move(subject_dir, os.path.join(config.data_visit1_dir, subject))\n",
    "    else:\n",
    "        failed_subjects.append(subject)"
   ]
  },
  {
   "cell_type": "code",
   "execution_count": 12,
   "metadata": {},
   "outputs": [
    {
     "name": "stdout",
     "output_type": "stream",
     "text": [
      "24\n",
      "['1227773', '1331071', '1386131', '1511533', '2291435', '2368189', '3139148', '3193109', '3392188', '3398906', '3932229', '4370567', '4518679', '4543083', '4822384', '4886010', '4991807', '5114312', '5151342', '5214767', '5240193', '5444718', '5614524', '5878796']\n"
     ]
    }
   ],
   "source": [
    "print(len(failed_subjects))\n",
    "print(failed_subjects)"
   ]
  },
  {
   "cell_type": "code",
   "execution_count": 19,
   "metadata": {},
   "outputs": [
    {
     "name": "stderr",
     "output_type": "stream",
     "text": [
      "  3%|▎         | 4/148 [00:00<00:04, 32.71it/s]"
     ]
    },
    {
     "name": "stdout",
     "output_type": "stream",
     "text": [
      "1035909: Missing la_2ch_ED.nii.gz file\n",
      "1035909: Missing la_2ch.nii.gz file\n",
      "1035909: Missing seg_la_2ch_ES.nii.gz file\n",
      "1035909: Missing la_2ch_ES.nii.gz file\n",
      "1035909: Missing sa.nii.gz file\n",
      "1035909: Missing seg_la_2ch_ED.nii.gz file\n",
      "1035909: Missing seg_la_2ch.nii.gz file\n",
      "1036859: Missing sa.nii.gz file\n",
      "1041342: Missing sa.nii.gz file\n",
      "1041945: Missing sa.nii.gz file\n",
      "1836642: Missing la_3ch.nii.gz file\n",
      "1882672: Missing sa.nii.gz file\n",
      "1884201: Missing sa.nii.gz file\n",
      "1884962: Missing sa.nii.gz file\n",
      "1884973: Missing sa.nii.gz file\n",
      "1887718: Missing sa.nii.gz file\n"
     ]
    },
    {
     "name": "stderr",
     "output_type": "stream",
     "text": [
      " 15%|█▍        | 22/148 [00:00<00:01, 72.00it/s]"
     ]
    },
    {
     "name": "stdout",
     "output_type": "stream",
     "text": [
      "1889788: Missing sa.nii.gz file\n",
      "1890757: Missing sa.nii.gz file\n",
      "1892055: Missing sa.nii.gz file\n",
      "1894573: Missing sa.nii.gz file\n",
      "1895022: Missing sa.nii.gz file\n",
      "1895667: Missing sa.nii.gz file\n",
      "1901295: Missing sa.nii.gz file\n",
      "1915634: Missing sa.nii.gz file\n",
      "1917942: Missing sa.nii.gz file\n",
      "1924334: Missing sa.nii.gz file\n",
      "1924958: Missing sa.nii.gz file\n",
      "1928073: Missing sa.nii.gz file\n",
      "1930099: Missing sa.nii.gz file\n",
      "1939439: Missing sa.nii.gz file\n",
      "1942674: Missing sa.nii.gz file\n",
      "1945415: Missing sa.nii.gz file\n",
      "1947243: Missing sa.nii.gz file\n"
     ]
    },
    {
     "name": "stderr",
     "output_type": "stream",
     "text": [
      " 26%|██▌       | 38/148 [00:00<00:01, 75.02it/s]"
     ]
    },
    {
     "name": "stdout",
     "output_type": "stream",
     "text": [
      "1951879: Missing sa.nii.gz file\n",
      "1952153: Missing sa.nii.gz file\n",
      "1954217: Missing sa.nii.gz file\n",
      "1960204: Missing sa.nii.gz file\n",
      "1960513: Missing sa.nii.gz file\n",
      "1966586: Missing sa.nii.gz file\n",
      "1966713: Missing sa.nii.gz file\n",
      "1967231: Missing sa.nii.gz file\n",
      "1968724: Missing sa.nii.gz file\n",
      "1970081: Missing sa.nii.gz file\n",
      "1971245: Missing sa.nii.gz file\n",
      "1973709: Missing sa.nii.gz file\n",
      "1974620: Missing sa.nii.gz file\n",
      "1980951: Missing sa.nii.gz file\n",
      "1986490: Missing sa.nii.gz file\n",
      "1990968: Missing sa.nii.gz file\n",
      "1991817: Missing sa.nii.gz file\n"
     ]
    },
    {
     "name": "stderr",
     "output_type": "stream",
     "text": [
      " 38%|███▊      | 56/148 [00:00<00:01, 81.99it/s]"
     ]
    },
    {
     "name": "stdout",
     "output_type": "stream",
     "text": [
      "1992731: Missing sa.nii.gz file\n",
      "1994818: Missing sa.nii.gz file\n",
      "2067587: Missing sa.nii.gz file\n",
      "2898943: Missing sa.nii.gz file\n",
      "2906838: Missing sa.nii.gz file\n",
      "2911945: Missing sa.nii.gz file\n",
      "2916061: Missing sa.nii.gz file\n",
      "2923601: Missing sa.nii.gz file\n",
      "2925311: Missing sa.nii.gz file\n",
      "2928319: Missing sa.nii.gz file\n",
      "2936138: Missing sa.nii.gz file\n",
      "2937263: Missing sa.nii.gz file\n",
      "2939697: Missing sa.nii.gz file\n",
      "2945395: Missing sa.nii.gz file\n",
      "2946977: Missing sa.nii.gz file\n",
      "2947574: Missing sa.nii.gz file\n",
      "2948370: Missing sa.nii.gz file\n",
      "2948880: Missing sa.nii.gz file\n"
     ]
    },
    {
     "name": "stderr",
     "output_type": "stream",
     "text": [
      " 49%|████▉     | 73/148 [00:00<00:00, 78.85it/s]"
     ]
    },
    {
     "name": "stdout",
     "output_type": "stream",
     "text": [
      "3209283: Missing sa.nii.gz file\n",
      "3822592: Missing sa.nii.gz file\n",
      "3822711: Missing sa.nii.gz file\n",
      "3823432: Missing sa.nii.gz file\n",
      "3825255: Missing sa.nii.gz file\n",
      "3825562: Missing sa.nii.gz file\n",
      "3826971: Missing sa.nii.gz file\n",
      "3827580: Missing sa.nii.gz file\n",
      "3829092: Missing sa.nii.gz file\n",
      "3832654: Missing sa.nii.gz file\n",
      "3835710: Missing sa.nii.gz file\n",
      "3838486: Missing sa.nii.gz file\n",
      "3838495: Missing sa.nii.gz file\n",
      "3840184: Missing sa.nii.gz file\n",
      "3841667: Missing sa.nii.gz file\n",
      "3841760: Missing sa.nii.gz file\n"
     ]
    },
    {
     "name": "stderr",
     "output_type": "stream",
     "text": [
      " 63%|██████▎   | 93/148 [00:01<00:00, 86.42it/s]"
     ]
    },
    {
     "name": "stdout",
     "output_type": "stream",
     "text": [
      "3843658: Missing sa.nii.gz file\n",
      "3850891: Missing sa.nii.gz file\n",
      "3854037: Missing sa.nii.gz file\n",
      "3857496: Missing sa.nii.gz file\n",
      "3859878: Missing sa.nii.gz file\n",
      "3865092: Missing sa.nii.gz file\n",
      "3865782: Missing sa.nii.gz file\n",
      "3869330: Missing sa.nii.gz file\n",
      "3870393: Missing sa.nii.gz file\n",
      "3875198: Missing sa.nii.gz file\n",
      "3879481: Missing sa.nii.gz file\n",
      "3880798: Missing sa.nii.gz file\n",
      "3883768: Missing sa.nii.gz file\n",
      "3887324: Missing sa.nii.gz file\n",
      "3890358: Missing sa.nii.gz file\n",
      "3895260: Missing sa.nii.gz file\n",
      "3899002: Missing sa.nii.gz file\n",
      "3899387: Missing sa.nii.gz file\n",
      "3901324: Missing sa.nii.gz file\n",
      "3903651: Missing sa.nii.gz file\n"
     ]
    },
    {
     "name": "stderr",
     "output_type": "stream",
     "text": [
      " 75%|███████▌  | 111/148 [00:01<00:00, 86.97it/s]"
     ]
    },
    {
     "name": "stdout",
     "output_type": "stream",
     "text": [
      "3910411: Missing sa.nii.gz file\n",
      "3913413: Missing sa.nii.gz file\n",
      "3916210: Missing sa.nii.gz file\n",
      "3923700: Missing sa.nii.gz file\n",
      "3927429: Missing sa.nii.gz file\n",
      "3928895: Missing sa.nii.gz file\n",
      "3931832: Missing sa.nii.gz file\n",
      "3936877: Missing sa.nii.gz file\n",
      "3942306: Missing sa.nii.gz file\n",
      "3942625: Missing sa.nii.gz file\n",
      "3942860: Missing sa.nii.gz file\n",
      "3943877: Missing sa.nii.gz file\n",
      "3953974: Missing sa.nii.gz file\n",
      "4224584: Missing sa.nii.gz file\n",
      "4891411: Missing sa.nii.gz file\n",
      "4951375: Missing sa.nii.gz file\n",
      "5547481: Missing sa.nii.gz file\n",
      "5549706: Missing sa.nii.gz file\n"
     ]
    },
    {
     "name": "stderr",
     "output_type": "stream",
     "text": [
      " 88%|████████▊ | 130/148 [00:01<00:00, 88.10it/s]"
     ]
    },
    {
     "name": "stdout",
     "output_type": "stream",
     "text": [
      "5791928: Missing sa.nii.gz file\n",
      "5792594: Missing sa.nii.gz file\n",
      "5793358: Missing sa.nii.gz file\n",
      "5793369: Missing sa.nii.gz file\n",
      "5796200: Missing sa.nii.gz file\n",
      "5798010: Missing sa.nii.gz file\n",
      "5798441: Missing sa.nii.gz file\n",
      "5799924: Missing sa.nii.gz file\n",
      "5802281: Missing sa.nii.gz file\n",
      "5806550: Missing sa.nii.gz file\n",
      "5811757: Missing sa.nii.gz file\n",
      "5817126: Missing sa.nii.gz file\n",
      "5820701: Missing sa.nii.gz file\n",
      "5823735: Missing sa.nii.gz file\n",
      "5826049: Missing sa.nii.gz file\n",
      "5832837: Missing sa.nii.gz file\n",
      "5834016: Missing sa.nii.gz file\n",
      "5837362: Missing sa.nii.gz file\n"
     ]
    },
    {
     "name": "stderr",
     "output_type": "stream",
     "text": [
      "100%|██████████| 148/148 [00:01<00:00, 81.47it/s]"
     ]
    },
    {
     "name": "stdout",
     "output_type": "stream",
     "text": [
      "5840815: Missing sa.nii.gz file\n",
      "5844722: Missing sa.nii.gz file\n",
      "5849919: Missing sa.nii.gz file\n",
      "5850490: Missing sa.nii.gz file\n",
      "5851924: Missing sa.nii.gz file\n",
      "5861618: Missing sa.nii.gz file\n",
      "5862441: Missing sa.nii.gz file\n",
      "5863023: Missing sa.nii.gz file\n",
      "5870672: Missing sa.nii.gz file\n",
      "5871669: Missing sa.nii.gz file\n",
      "5875363: Missing sa.nii.gz file\n",
      "5875857: Missing sa.nii.gz file\n",
      "5880312: Missing sa.nii.gz file\n",
      "5890048: Missing sa.nii.gz file\n"
     ]
    },
    {
     "name": "stderr",
     "output_type": "stream",
     "text": [
      "\n"
     ]
    }
   ],
   "source": [
    "# visit 2\n",
    "failed_subjects = []\n",
    "for subject in tqdm(os.listdir(config.data_failed_visit2_dir)):\n",
    "    subject_dir = os.path.join(config.data_failed_visit2_dir, subject)\n",
    "    flag = False\n",
    "    for file in files_to_check:\n",
    "        if not os.path.exists(os.path.join(subject_dir, file)):\n",
    "            print(f\"{subject}: Missing {file} file\")\n",
    "            flag = True\n",
    "    if not flag:\n",
    "        shutil.move(subject_dir, os.path.join(config.data_visit2_dir, subject))\n",
    "    else:\n",
    "        failed_subjects.append(subject)"
   ]
  },
  {
   "cell_type": "code",
   "execution_count": 20,
   "metadata": {},
   "outputs": [
    {
     "name": "stdout",
     "output_type": "stream",
     "text": [
      "148\n",
      "['1035909', '1036859', '1041342', '1041945', '1836642', '1882672', '1884201', '1884962', '1884973', '1887718', '1889788', '1890757', '1892055', '1894573', '1895022', '1895667', '1901295', '1915634', '1917942', '1924334', '1924958', '1928073', '1930099', '1939439', '1942674', '1945415', '1947243', '1951879', '1952153', '1954217', '1960204', '1960513', '1966586', '1966713', '1967231', '1968724', '1970081', '1971245', '1973709', '1974620', '1980951', '1986490', '1990968', '1991817', '1992731', '1994818', '2067587', '2898943', '2906838', '2911945', '2916061', '2923601', '2925311', '2928319', '2936138', '2937263', '2939697', '2945395', '2946977', '2947574', '2948370', '2948880', '3209283', '3822592', '3822711', '3823432', '3825255', '3825562', '3826971', '3827580', '3829092', '3832654', '3835710', '3838486', '3838495', '3840184', '3841667', '3841760', '3843658', '3850891', '3854037', '3857496', '3859878', '3865092', '3865782', '3869330', '3870393', '3875198', '3879481', '3880798', '3883768', '3887324', '3890358', '3895260', '3899002', '3899387', '3901324', '3903651', '3910411', '3913413', '3916210', '3923700', '3927429', '3928895', '3931832', '3936877', '3942306', '3942625', '3942860', '3943877', '3953974', '4224584', '4891411', '4951375', '5547481', '5549706', '5791928', '5792594', '5793358', '5793369', '5796200', '5798010', '5798441', '5799924', '5802281', '5806550', '5811757', '5817126', '5820701', '5823735', '5826049', '5832837', '5834016', '5837362', '5840815', '5844722', '5849919', '5850490', '5851924', '5861618', '5862441', '5863023', '5870672', '5871669', '5875363', '5875857', '5880312', '5890048']\n"
     ]
    }
   ],
   "source": [
    "print(len(failed_subjects))\n",
    "print(failed_subjects)"
   ]
  },
  {
   "cell_type": "code",
   "execution_count": null,
   "metadata": {},
   "outputs": [],
   "source": []
  }
 ],
 "metadata": {
  "kernelspec": {
   "display_name": "env",
   "language": "python",
   "name": "python3"
  },
  "language_info": {
   "codemirror_mode": {
    "name": "ipython",
    "version": 3
   },
   "file_extension": ".py",
   "mimetype": "text/x-python",
   "name": "python",
   "nbconvert_exporter": "python",
   "pygments_lexer": "ipython3",
   "version": "3.9.6"
  }
 },
 "nbformat": 4,
 "nbformat_minor": 2
}
