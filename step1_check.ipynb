{
 "cells": [
  {
   "cell_type": "markdown",
   "metadata": {},
   "source": [
    "This file go through the `data` folder and determine how many files are missing for each subject."
   ]
  },
  {
   "cell_type": "code",
   "execution_count": 2,
   "metadata": {},
   "outputs": [],
   "source": [
    "import os\n",
    "import sys\n",
    "from tqdm import tqdm\n",
    "import shutil\n",
    "sys.path.append('../')\n",
    "import config"
   ]
  },
  {
   "cell_type": "code",
   "execution_count": 3,
   "metadata": {},
   "outputs": [],
   "source": [
    "# no segmentation on sa.nii.gz so far\n",
    "files_to_check = [\n",
    "    \"la_2ch_ED.nii.gz\",\n",
    "    \"la_2ch.nii.gz\",\n",
    "    \"la_4ch_ED.nii.gz\",\n",
    "    \"la_4ch.nii.gz\",\n",
    "    \"seg4_la_4ch_ED.nii.gz\",\n",
    "    \"seg4_la_4ch.nii.gz\",\n",
    "    \"seg_la_2ch_ES.nii.gz\",\n",
    "    \"seg_la_4ch_ED.nii.gz\",\n",
    "    \"seg_la_4ch.nii.gz\",\n",
    "    \"la_2ch_ES.nii.gz\",\n",
    "    \"la_3ch.nii.gz\",\n",
    "    \"la_4ch_ES.nii.gz\",\n",
    "    \"sa.nii.gz\",\n",
    "    \"seg4_la_4ch_ES.nii.gz\",\n",
    "    \"seg_la_2ch_ED.nii.gz\",\n",
    "    \"seg_la_2ch.nii.gz\",\n",
    "    \"seg_la_4ch_ES.nii.gz\"\n",
    "]"
   ]
  }
 ],
 "metadata": {
  "kernelspec": {
   "display_name": "env",
   "language": "python",
   "name": "python3"
  },
  "language_info": {
   "codemirror_mode": {
    "name": "ipython",
    "version": 3
   },
   "file_extension": ".py",
   "mimetype": "text/x-python",
   "name": "python",
   "nbconvert_exporter": "python",
   "pygments_lexer": "ipython3",
   "version": "3.9.18"
  }
 },
 "nbformat": 4,
 "nbformat_minor": 2
}
